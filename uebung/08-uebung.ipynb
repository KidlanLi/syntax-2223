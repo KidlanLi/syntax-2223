{
 "cells": [
  {
   "cell_type": "markdown",
   "metadata": {
    "slideshow": {
     "slide_type": "slide"
    }
   },
   "source": [
    "***Syntax natürlicher Sprachen, WS 2022/23***\n",
    "\n",
    "---\n",
    "# Übung 8"
   ]
  },
  {
   "cell_type": "code",
   "execution_count": 1,
   "metadata": {},
   "outputs": [],
   "source": [
    "from nltk.tree import Tree\n",
    "import nltk\n",
    "import sys"
   ]
  },
  {
   "cell_type": "code",
   "execution_count": 2,
   "metadata": {},
   "outputs": [],
   "source": [
    "import spacy\n",
    "from spacy import displacy"
   ]
  },
  {
   "cell_type": "code",
   "execution_count": 3,
   "metadata": {},
   "outputs": [],
   "source": [
    "def transform_nr_conll(sent_nr):\n",
    "    sent_list = []\n",
    "    for line in list(filter(None, sent_nr.split(\"\\n\"))):\n",
    "        line_list = line.split()\n",
    "        line_list.pop(0)\n",
    "        line_list.insert(1,\"_\")\n",
    "        sent_list.append(\" \".join([i for i in line_list[0:]]))\n",
    "\n",
    "    return \"\\n\".join([i for i in sent_list[0:]])"
   ]
  },
  {
   "cell_type": "code",
   "execution_count": 4,
   "metadata": {},
   "outputs": [],
   "source": [
    "from nltk import DependencyGraph\n",
    "from nltk.tree import Tree\n",
    "from itertools import chain\n",
    "\n",
    "\n",
    "### tree_labeled-Methode für DependencyGraphs (pretty_print-Dependenzbäume mit Labels):\n",
    "def _tree_labeled(self, i):\n",
    "        node = self.get_by_address(i)\n",
    "        word = node[\"word\"]\n",
    "        rel = node[\"rel\"]        \n",
    "        deps = sorted(chain.from_iterable(node[\"deps\"].values()))\n",
    "\n",
    "        if deps:\n",
    "            return Tree(word+'('+rel+')', [self._tree_labeled(dep) for dep in deps])\n",
    "        else:\n",
    "            return word+'('+rel+')'\n",
    "        \n",
    "def tree_labeled(self):\n",
    "        node = self.root\n",
    "\n",
    "        word = node[\"word\"]\n",
    "        rel = node[\"rel\"]\n",
    "        deps = sorted(chain.from_iterable(node[\"deps\"].values()))\n",
    "        return Tree(word+'('+rel+')', [self._tree_labeled(dep) for dep in deps])\n",
    "\n",
    "    \n",
    "DependencyGraph._tree_labeled = _tree_labeled\n",
    "DependencyGraph.tree_labeled = tree_labeled"
   ]
  },
  {
   "cell_type": "code",
   "execution_count": 5,
   "metadata": {},
   "outputs": [],
   "source": [
    "#Konvertierungsfunktion von conll(4)-Format (MALT-tabular) für Rendering mit displaCy:\n",
    "def displacy_dep_input(sent):\n",
    "    deps = []\n",
    "    for dep in sent.split('\\n'):\n",
    "        deps.append(dep.split())\n",
    "\n",
    "    deps = [x for x in deps if x]\n",
    "\n",
    "    ex = []\n",
    "    word_list = []\n",
    "    arc_list = []\n",
    "\n",
    "    for index, dep in enumerate(deps):\n",
    "        word_list.append({\"text\": dep[0], \"tag\": \"\"})\n",
    "        line = index+1\n",
    "        head = int(dep[2])\n",
    "        label = dep[3]\n",
    "        if head>line:\n",
    "            start = index\n",
    "            end = head-1\n",
    "            direction = \"left\"\n",
    "        else:\n",
    "            start = head-1\n",
    "            end = index  \n",
    "            direction = \"right\"\n",
    "        if(label.lower() != \"root\"):\n",
    "            arc_list.append({\"start\": start, \"end\": end, \"label\": label, \"dir\": direction})\n",
    "\n",
    "    ex.append({\n",
    "        \"words\": word_list,\n",
    "        \"arcs\": arc_list\n",
    "    })    \n",
    "\n",
    "    return ex\n",
    "\n",
    "#html = displacy.render(ex, style=\"dep\", manual=True, options={'distance':100})"
   ]
  },
  {
   "cell_type": "code",
   "execution_count": 6,
   "metadata": {},
   "outputs": [],
   "source": [
    "def show_dep_trees(sent_nr):\n",
    "    sent = transform_nr_conll(sent_nr)\n",
    "    dg = DependencyGraph(sent)\n",
    "\n",
    "    tree_labeled = dg.tree_labeled()\n",
    "    tree_labeled.pretty_print(unicodelines=True)   \n",
    "    \n",
    "    ex = displacy_dep_input(sent)\n",
    "    html = displacy.render(ex, style=\"dep\", manual=True, options={'distance':100})"
   ]
  },
  {
   "cell_type": "markdown",
   "metadata": {
    "slideshow": {
     "slide_type": "slide"
    }
   },
   "source": [
    "--- \n",
    "## Aufgabe 1: Syntaxregeln komplexer Sätze\n",
    "#### Geben Sie zu den folgenden CFG-Outputs des Stanford-Parsers (trainiert auf Penn-Treebank) anhand der Ableitungsbäume die Regeln der jeweils auftretenden komplexen Satzkonstruktionen an und benennen Sie den Satz- bzw. Konstruktionstyp. \n",
    "\n",
    "#### Analysieren Sie anschließend die Dependenzstruktur der Sätze im UD-Schema und geben Sie dann explizit die verwendeten Dependenzregeln für die komplexen Satzkonstruktionen an.\n",
    "\n",
    "\n",
    "- Penn-Treebank Tagset: http://surdeanu.cs.arizona.edu//mihai/teaching/ista555-fall13/readings/PennTreebankConstituents.html\n",
    "- UD Dependency Tagset: https://universaldependencies.org/u/dep/all.html"
   ]
  },
  {
   "cell_type": "markdown",
   "metadata": {
    "slideshow": {
     "slide_type": "subslide"
    }
   },
   "source": [
    "---\n",
    "### Aufgabe 1a: "
   ]
  },
  {
   "cell_type": "code",
   "execution_count": 7,
   "metadata": {
    "slideshow": {
     "slide_type": "fragment"
    }
   },
   "outputs": [],
   "source": [
    "sentence = \"I believe that you win.\""
   ]
  },
  {
   "cell_type": "markdown",
   "metadata": {},
   "source": [
    "### Fragen:\n",
    "\n",
    "#### Was für eine Satzkonstruktion liegt hier vor? (koordiniert?, subordiniert?, keines von beiden?)\n",
    "\n",
    "#### Welcher eingebettete Satztyp liegt vor? (Subjekt-, Objekt-, Kausal-, Lokal-, Modal-, Temporal-, Relativsatz?)\n",
    "\n",
    "#### Wie läßt sich dieser Satztyp klassifizieren? (Komplement-, Adverbial-, Attributsatz?)\n"
   ]
  },
  {
   "cell_type": "markdown",
   "metadata": {
    "slideshow": {
     "slide_type": "subslide"
    }
   },
   "source": [
    "### *Konstituentenanalyse:*"
   ]
  },
  {
   "cell_type": "code",
   "execution_count": 8,
   "metadata": {
    "scrolled": false
   },
   "outputs": [
    {
     "name": "stdout",
     "output_type": "stream",
     "text": [
      "            ROOT                     \n",
      "             │                        \n",
      "             S                       \n",
      " ┌───────────┴────┬────────────────┐  \n",
      " │                VP               │ \n",
      " │     ┌──────────┴───┐            │  \n",
      " │     │             SBAR          │ \n",
      " │     │     ┌────────┴────┐       │  \n",
      " │     │     │             S       │ \n",
      " │     │     │        ┌────┴───┐   │  \n",
      " NP    │     │        NP       VP  │ \n",
      " │     │     │        │        │   │  \n",
      "PRP   VBP    IN      PRP      VBP  . \n",
      " │     │     │        │        │   │  \n",
      " I  believe that     you      win  . \n",
      "\n"
     ]
    }
   ],
   "source": [
    "tree_str = '(ROOT (S (NP (PRP I)) (VP (VBP believe) (SBAR (IN that) (S (NP (PRP you)) (VP (VBP win))))) (. .)))'\n",
    "Tree.fromstring(tree_str).pretty_print(unicodelines=True)"
   ]
  },
  {
   "cell_type": "markdown",
   "metadata": {
    "slideshow": {
     "slide_type": "fragment"
    }
   },
   "source": [
    "#### Geben Sie die CFG-Ableitungsregeln für diese komplexe Satzkonstruktion an:\n",
    "\n",
    "*Hier fehlt Ihre Lösung*"
   ]
  },
  {
   "cell_type": "markdown",
   "metadata": {
    "slideshow": {
     "slide_type": "subslide"
    }
   },
   "source": [
    "---\n",
    "### *Dependenzanalyse:*"
   ]
  },
  {
   "cell_type": "code",
   "execution_count": 9,
   "metadata": {},
   "outputs": [],
   "source": [
    "sent_nr = \"\"\"\n",
    "1 I  \n",
    "2 believe\n",
    "3 that\n",
    "4 you\n",
    "5 win\n",
    "\"\"\"\n",
    "\n",
    "#show_dep_trees(sent_nr)"
   ]
  },
  {
   "cell_type": "markdown",
   "metadata": {
    "slideshow": {
     "slide_type": "fragment"
    }
   },
   "source": [
    "#### Geben Sie die Dependenzregeln für diese komplexe Satzkonstruktion an:\n",
    "\n",
    "*Hier fehlt Ihre Lösung*"
   ]
  },
  {
   "cell_type": "markdown",
   "metadata": {
    "slideshow": {
     "slide_type": "subslide"
    }
   },
   "source": [
    "---\n",
    "### Aufgabe 1b: "
   ]
  },
  {
   "cell_type": "code",
   "execution_count": 10,
   "metadata": {
    "slideshow": {
     "slide_type": "fragment"
    }
   },
   "outputs": [],
   "source": [
    "sentence = \"I want to believe.\""
   ]
  },
  {
   "cell_type": "markdown",
   "metadata": {},
   "source": [
    "### Fragen:\n",
    "\n",
    "#### Was für eine Satzkonstruktion liegt hier vor? (koordiniert?, subordiniert?, keines von beiden?)\n",
    "\n",
    "#### Welcher eingebettete Satztyp liegt vor? (Subjekt-, Objekt-, Kausal-, Lokal-, Modal-, Temporal-, Relativsatz?)\n",
    "\n",
    "#### Wie läßt sich dieser Satztyp klassifizieren? (Komplement-, Adverbial-, Attributsatz?)\n"
   ]
  },
  {
   "cell_type": "markdown",
   "metadata": {},
   "source": [
    "### Zusatzfragen:\n",
    "\n",
    "#### Welche Form der Kontrolle liegt hier vor? (Subjekt- oder Objektkontrolle?)\n",
    "\n",
    "#### Welche Form der Kontrolle liegt in folgendem Satz vor: *Sie überreden ihn, nach München zu fahren?*\n",
    "\n",
    "#### Welche satzwertigen Funktionen können Infinitivkonstruktionen erfüllen? Geben Sie jeweils ein Beispiel."
   ]
  },
  {
   "cell_type": "markdown",
   "metadata": {
    "slideshow": {
     "slide_type": "subslide"
    }
   },
   "source": [
    "### *Konstituentenanalyse:*"
   ]
  },
  {
   "cell_type": "code",
   "execution_count": 11,
   "metadata": {},
   "outputs": [
    {
     "name": "stdout",
     "output_type": "stream",
     "text": [
      "         ROOT                \n",
      "          │                   \n",
      "          S                  \n",
      " ┌────────┼────────────────┐  \n",
      " │        VP               │ \n",
      " │   ┌────┴────┐           │  \n",
      " │   │         S           │ \n",
      " │   │         │           │  \n",
      " │   │         VP          │ \n",
      " │   │    ┌────┴─────┐     │  \n",
      " NP  │    │          VP    │ \n",
      " │   │    │          │     │  \n",
      "PRP VBP   TO         VB    . \n",
      " │   │    │          │     │  \n",
      " I  want  to      believe  . \n",
      "\n"
     ]
    }
   ],
   "source": [
    "tree_str = '(ROOT (S (NP (PRP I)) (VP (VBP want) (S (VP (TO to) (VP (VB believe))))) (. .)))'\n",
    "Tree.fromstring(tree_str).pretty_print(unicodelines=True)"
   ]
  },
  {
   "cell_type": "markdown",
   "metadata": {
    "slideshow": {
     "slide_type": "fragment"
    }
   },
   "source": [
    "#### Geben Sie die CFG-Ableitungsregeln für diese komplexe Satzkonstruktion an:"
   ]
  },
  {
   "cell_type": "markdown",
   "metadata": {},
   "source": [
    "*Hier fehlt Ihre Lösung*"
   ]
  },
  {
   "cell_type": "markdown",
   "metadata": {
    "slideshow": {
     "slide_type": "slide"
    }
   },
   "source": [
    "---\n",
    "### *Dependenzanalyse:*"
   ]
  },
  {
   "cell_type": "code",
   "execution_count": 12,
   "metadata": {},
   "outputs": [],
   "source": [
    "sent_nr = \"\"\"\n",
    "1 I  \n",
    "2 want\n",
    "3 to\n",
    "4 believe\n",
    "\"\"\"\n",
    "\n",
    "#show_dep_trees(sent_nr)"
   ]
  },
  {
   "cell_type": "markdown",
   "metadata": {
    "slideshow": {
     "slide_type": "fragment"
    }
   },
   "source": [
    "#### Geben Sie die Dependenzregeln für diese komplexe Satzkonstruktion an:"
   ]
  },
  {
   "cell_type": "markdown",
   "metadata": {},
   "source": [
    "*Hier fehlt Ihre Lösung*"
   ]
  },
  {
   "cell_type": "markdown",
   "metadata": {
    "slideshow": {
     "slide_type": "subslide"
    }
   },
   "source": [
    "---\n",
    "### Aufgabe 1c: "
   ]
  },
  {
   "cell_type": "code",
   "execution_count": 13,
   "metadata": {
    "slideshow": {
     "slide_type": "fragment"
    }
   },
   "outputs": [],
   "source": [
    "sentence = \"the man who knew too much\""
   ]
  },
  {
   "cell_type": "markdown",
   "metadata": {},
   "source": [
    "### Fragen:\n",
    "\n",
    "#### Was für eine Satzkonstruktion liegt hier vor? (koordiniert?, subordiniert?, keines von beiden?)\n",
    "\n",
    "#### Welcher eingebettete Satztyp liegt vor? (Subjekt-, Objekt-, Kausal-, Lokal-, Modal-, Temporal-, Relativsatz?)\n",
    "\n",
    "#### Wie läßt sich dieser Satztyp klassifizieren? (Komplement-, Adverbial-, Attributsatz?)\n"
   ]
  },
  {
   "cell_type": "markdown",
   "metadata": {},
   "source": [
    "### Zusatzfragen:\n",
    "\n",
    "#### Welche Attributsatztypen haben Sie in der Vorlesung kennengelernt? "
   ]
  },
  {
   "cell_type": "markdown",
   "metadata": {
    "slideshow": {
     "slide_type": "subslide"
    }
   },
   "source": [
    "### *Konstituentenanalyse:*"
   ]
  },
  {
   "cell_type": "code",
   "execution_count": 14,
   "metadata": {},
   "outputs": [
    {
     "name": "stdout",
     "output_type": "stream",
     "text": [
      "            ROOT                        \n",
      "             │                           \n",
      "            FRAG                        \n",
      "             │                           \n",
      "             NP                         \n",
      "     ┌───────┴─────────┐                 \n",
      "     │                SBAR              \n",
      "     │       ┌─────────┴────┐            \n",
      "     │       │              S           \n",
      "     │       │              │            \n",
      "     │       │              VP          \n",
      "     │       │    ┌─────────┴───┐        \n",
      "     NP     WHNP  │            ADJP     \n",
      " ┌───┴───┐   │    │         ┌───┴────┐   \n",
      " DT      NN  WP  VBD        RB       JJ \n",
      " │       │   │    │         │        │   \n",
      "the     man who  knew      too      much\n",
      "\n"
     ]
    }
   ],
   "source": [
    "tree_str = '(ROOT (FRAG (NP (NP (DT the) (NN man)) (SBAR (WHNP (WP who)) (S (VP (VBD knew) (ADJP (RB too) (JJ much))))))))'\n",
    "Tree.fromstring(tree_str).pretty_print(unicodelines=True)"
   ]
  },
  {
   "cell_type": "markdown",
   "metadata": {
    "slideshow": {
     "slide_type": "fragment"
    }
   },
   "source": [
    "#### Geben Sie die CFG-Ableitungsregeln für diese komplexe Satzkonstruktion an:"
   ]
  },
  {
   "cell_type": "markdown",
   "metadata": {},
   "source": [
    "*Hier fehlt Ihre Lösung*"
   ]
  },
  {
   "cell_type": "markdown",
   "metadata": {
    "slideshow": {
     "slide_type": "subslide"
    }
   },
   "source": [
    "---\n",
    "### *Dependenzanalyse:*"
   ]
  },
  {
   "cell_type": "code",
   "execution_count": 15,
   "metadata": {},
   "outputs": [],
   "source": [
    "sent_nr = \"\"\"\n",
    "1 the\n",
    "2 man\n",
    "3 who\n",
    "4 knew\n",
    "5 too\n",
    "6 much\n",
    "\"\"\"\n",
    "\n",
    "#show_dep_trees(sent_nr)"
   ]
  },
  {
   "cell_type": "markdown",
   "metadata": {
    "slideshow": {
     "slide_type": "fragment"
    }
   },
   "source": [
    "#### Geben Sie die Dependenzregeln für diese komplexe Satzkonstruktion an:"
   ]
  },
  {
   "cell_type": "markdown",
   "metadata": {},
   "source": [
    "*Hier fehlt Ihre Lösung*"
   ]
  },
  {
   "cell_type": "markdown",
   "metadata": {
    "slideshow": {
     "slide_type": "subslide"
    }
   },
   "source": [
    "---\n",
    "### Aufgabe 1d: "
   ]
  },
  {
   "cell_type": "code",
   "execution_count": 16,
   "metadata": {
    "slideshow": {
     "slide_type": "fragment"
    }
   },
   "outputs": [],
   "source": [
    "sentence = \"They left, but they came back.\""
   ]
  },
  {
   "cell_type": "markdown",
   "metadata": {},
   "source": [
    "### Fragen:\n",
    "\n",
    "#### Was für eine Satzkonstruktion liegt hier vor? (koordiniert?, subordiniert?, keines von beiden?)\n",
    "\n",
    "#### Welcher eingebettete Satztyp liegt vor? (Subjekt-, Objekt-, Kausal-, Lokal-, Modal-, Temporal-, Relativsatz?)\n",
    "\n",
    "#### Wie läßt sich dieser Satztyp klassifizieren? (Komplement-, Adverbial-, Attributsatz?)\n"
   ]
  },
  {
   "cell_type": "markdown",
   "metadata": {
    "slideshow": {
     "slide_type": "subslide"
    }
   },
   "source": [
    "### *Konstituentenanalyse:*"
   ]
  },
  {
   "cell_type": "code",
   "execution_count": 17,
   "metadata": {},
   "outputs": [
    {
     "name": "stdout",
     "output_type": "stream",
     "text": [
      "                  ROOT                       \n",
      "                   │                          \n",
      "                   S                         \n",
      "      ┌────────┬───┼─────────┬─────────────┐  \n",
      "      │        │   │         S             │ \n",
      "      │        │   │    ┌────┴────┐        │  \n",
      "      S        │   │    │         VP       │ \n",
      " ┌────┴───┐    │   │    │    ┌────┴───┐    │  \n",
      " NP       VP   │   │    NP   │       ADVP  │ \n",
      " │        │    │   │    │    │        │    │  \n",
      "PRP      VBD   ,   CC  PRP  VBD       RB   . \n",
      " │        │    │   │    │    │        │    │  \n",
      "They     left  ,  but  they came     back  . \n",
      "\n"
     ]
    }
   ],
   "source": [
    "tree_str = '(ROOT (S (S (NP (PRP They)) (VP (VBD left))) (, ,) (CC but) (S (NP (PRP they)) (VP (VBD came) (ADVP (RB back)))) (. .)))'\n",
    "Tree.fromstring(tree_str).pretty_print(unicodelines=True)"
   ]
  },
  {
   "cell_type": "markdown",
   "metadata": {
    "slideshow": {
     "slide_type": "fragment"
    }
   },
   "source": [
    "#### Geben Sie die CFG-Ableitungsregeln für diese komplexe Satzkonstruktion an:"
   ]
  },
  {
   "cell_type": "markdown",
   "metadata": {},
   "source": [
    "*Hier fehlt Ihre Lösung*"
   ]
  },
  {
   "cell_type": "markdown",
   "metadata": {
    "slideshow": {
     "slide_type": "subslide"
    }
   },
   "source": [
    "---\n",
    "### *Dependenzanalyse:*"
   ]
  },
  {
   "cell_type": "code",
   "execution_count": 18,
   "metadata": {},
   "outputs": [],
   "source": [
    "sent_nr = \"\"\"\n",
    "1 they\n",
    "2 left\n",
    "3 but\n",
    "4 they\n",
    "5 came\n",
    "6 back\n",
    "\"\"\"\n",
    "\n",
    "#show_dep_trees(sent_nr)"
   ]
  },
  {
   "cell_type": "markdown",
   "metadata": {
    "slideshow": {
     "slide_type": "fragment"
    }
   },
   "source": [
    "#### Geben Sie die Dependenzregeln für diese komplexe Satzkonstruktion an:"
   ]
  },
  {
   "cell_type": "markdown",
   "metadata": {
    "slideshow": {
     "slide_type": "subslide"
    }
   },
   "source": [
    "*Hier fehlt Ihre Lösung:*\n"
   ]
  },
  {
   "cell_type": "markdown",
   "metadata": {
    "slideshow": {
     "slide_type": "subslide"
    }
   },
   "source": [
    "---\n",
    "### Aufgabe 1e: "
   ]
  },
  {
   "cell_type": "code",
   "execution_count": 19,
   "metadata": {
    "slideshow": {
     "slide_type": "fragment"
    }
   },
   "outputs": [],
   "source": [
    "sentence = \"This can't be right.\""
   ]
  },
  {
   "cell_type": "markdown",
   "metadata": {},
   "source": [
    "### Fragen:\n",
    "\n",
    "#### Was für eine Satzkonstruktion liegt hier vor? (koordiniert?, subordiniert?, keines von beiden?)\n",
    "\n",
    "#### Welcher eingebettete Satztyp liegt vor? (Subjekt-, Objekt-, Kausal-, Lokal-, Modal-, Temporal-, Relativsatz?)\n",
    "\n",
    "#### Wie läßt sich dieser Satztyp klassifizieren? (Komplement-, Adverbial-, Attributsatz?)\n"
   ]
  },
  {
   "cell_type": "markdown",
   "metadata": {
    "slideshow": {
     "slide_type": "subslide"
    }
   },
   "source": [
    "### *Konstituentenanalyse:*"
   ]
  },
  {
   "cell_type": "code",
   "execution_count": 20,
   "metadata": {},
   "outputs": [
    {
     "name": "stdout",
     "output_type": "stream",
     "text": [
      "         ROOT                  \n",
      "          │                     \n",
      "          S                    \n",
      " ┌────────┼──────────────────┐  \n",
      " │        VP                 │ \n",
      " │    ┌───┼────────┐         │  \n",
      " │    │   │        VP        │ \n",
      " │    │   │    ┌───┴────┐    │  \n",
      " NP   │   │    │       ADJP  │ \n",
      " │    │   │    │        │    │  \n",
      " DT   MD  RB   VB       JJ   . \n",
      " │    │   │    │        │    │  \n",
      "This  ca n't   be     right  . \n",
      "\n"
     ]
    }
   ],
   "source": [
    "tree_str = \"(ROOT (S (NP (DT This)) (VP (MD ca) (RB n't) (VP (VB be) (ADJP (JJ right)))) (. .)))\"\n",
    "Tree.fromstring(tree_str).pretty_print(unicodelines=True)"
   ]
  },
  {
   "cell_type": "markdown",
   "metadata": {
    "slideshow": {
     "slide_type": "fragment"
    }
   },
   "source": [
    "#### Geben Sie die CFG-Ableitungsregeln für diese komplexe Satzkonstruktion an:"
   ]
  },
  {
   "cell_type": "markdown",
   "metadata": {},
   "source": [
    "*Hier fehlt Ihre Lösung*"
   ]
  },
  {
   "cell_type": "markdown",
   "metadata": {
    "slideshow": {
     "slide_type": "subslide"
    }
   },
   "source": [
    "---\n",
    "### *Dependenzanalyse:*"
   ]
  },
  {
   "cell_type": "code",
   "execution_count": 21,
   "metadata": {},
   "outputs": [],
   "source": [
    "sent_nr = \"\"\"\n",
    "1 this\n",
    "2 ca\n",
    "3 n\\'t\n",
    "4 be\n",
    "5 right\n",
    "\"\"\"\n",
    "\n",
    "#show_dep_trees(sent_nr)"
   ]
  },
  {
   "cell_type": "markdown",
   "metadata": {
    "slideshow": {
     "slide_type": "fragment"
    }
   },
   "source": [
    "#### Geben Sie die Dependenzregeln für diese komplexe Satzkonstruktion an:"
   ]
  },
  {
   "cell_type": "markdown",
   "metadata": {
    "slideshow": {
     "slide_type": "subslide"
    }
   },
   "source": [
    "*Hier fehlt Ihre Lösung:*\n"
   ]
  },
  {
   "cell_type": "markdown",
   "metadata": {
    "slideshow": {
     "slide_type": "subslide"
    }
   },
   "source": [
    "---\n",
    "### Aufgabe 1f: "
   ]
  },
  {
   "cell_type": "code",
   "execution_count": 22,
   "metadata": {
    "slideshow": {
     "slide_type": "fragment"
    }
   },
   "outputs": [],
   "source": [
    "sentence = \"When the storm started, she was still outside.\""
   ]
  },
  {
   "cell_type": "markdown",
   "metadata": {},
   "source": [
    "### Fragen:\n",
    "\n",
    "#### Was für eine Satzkonstruktion liegt hier vor? (koordiniert?, subordiniert?, keines von beiden?)\n",
    "\n",
    "#### Welcher eingebettete Satztyp liegt vor? (Subjekt-, Objekt-, Kausal-, Lokal-, Modal-, Temporal-, Relativsatz?)\n",
    "\n",
    "#### Wie läßt sich dieser Satztyp klassifizieren? (Komplement-, Adverbial-, Attributsatz?)\n"
   ]
  },
  {
   "cell_type": "markdown",
   "metadata": {
    "slideshow": {
     "slide_type": "subslide"
    }
   },
   "source": [
    "### *Konstituentenanalyse:*"
   ]
  },
  {
   "cell_type": "code",
   "execution_count": 23,
   "metadata": {},
   "outputs": [
    {
     "name": "stdout",
     "output_type": "stream",
     "text": [
      "                              ROOT                          \n",
      "                               │                             \n",
      "                               S                            \n",
      "            ┌──────────────────┼────┬────────┬────────────┐  \n",
      "           SBAR                │    │        │            │ \n",
      "  ┌─────────┴─────┐            │    │        │            │  \n",
      "  │               S            │    │        VP           │ \n",
      "  │         ┌─────┴──────┐     │    │   ┌────┼──────┐     │  \n",
      "WHADVP      NP           VP    │    NP  │   ADVP   ADVP   │ \n",
      "  │     ┌───┴─────┐      │     │    │   │    │      │     │  \n",
      " WRB    DT        NN    VBD    ,   PRP VBD   RB     RB    . \n",
      "  │     │         │      │     │    │   │    │      │     │  \n",
      " When  the      storm started  ,   she was still outside  . \n",
      "\n"
     ]
    }
   ],
   "source": [
    "tree_str = '(ROOT (S (SBAR (WHADVP (WRB When)) (S (NP (DT the) (NN storm)) (VP (VBD started)))) (, ,) (NP (PRP she)) (VP (VBD was) (ADVP (RB still)) (ADVP (RB outside))) (. .)))'\n",
    "Tree.fromstring(tree_str).pretty_print(unicodelines=True)"
   ]
  },
  {
   "cell_type": "markdown",
   "metadata": {
    "slideshow": {
     "slide_type": "fragment"
    }
   },
   "source": [
    "#### Geben Sie die CFG-Ableitungsregeln für diese komplexe Satzkonstruktion an:"
   ]
  },
  {
   "cell_type": "markdown",
   "metadata": {},
   "source": [
    "*Hier fehlt Ihre Lösung*"
   ]
  },
  {
   "cell_type": "markdown",
   "metadata": {
    "slideshow": {
     "slide_type": "subslide"
    }
   },
   "source": [
    "---\n",
    "### *Dependenzanalyse:*"
   ]
  },
  {
   "cell_type": "code",
   "execution_count": 24,
   "metadata": {},
   "outputs": [],
   "source": [
    "sent_nr = \"\"\"\n",
    "1 when\n",
    "2 the\n",
    "3 storm\n",
    "4 started\n",
    "5 she\n",
    "6 was\n",
    "7 still\n",
    "8 outside\n",
    "\"\"\"\n",
    "\n",
    "#show_dep_trees(sent_nr)"
   ]
  },
  {
   "cell_type": "markdown",
   "metadata": {
    "slideshow": {
     "slide_type": "fragment"
    }
   },
   "source": [
    "#### Geben Sie die Dependenzregeln für diese komplexe Satzkonstruktion an:"
   ]
  },
  {
   "cell_type": "markdown",
   "metadata": {
    "slideshow": {
     "slide_type": "subslide"
    }
   },
   "source": [
    "*Hier fehlt Ihre Lösung:*\n"
   ]
  },
  {
   "cell_type": "markdown",
   "metadata": {
    "slideshow": {
     "slide_type": "subslide"
    }
   },
   "source": [
    "---\n",
    "### Aufgabe 1g: "
   ]
  },
  {
   "cell_type": "code",
   "execution_count": 25,
   "metadata": {
    "slideshow": {
     "slide_type": "fragment"
    }
   },
   "outputs": [],
   "source": [
    "sentence = \"To go now would be a mistake.\""
   ]
  },
  {
   "cell_type": "markdown",
   "metadata": {},
   "source": [
    "### Fragen:\n",
    "\n",
    "#### Was für eine Satzkonstruktion liegt hier vor? (koordiniert?, subordiniert?, keines von beiden?)\n",
    "\n",
    "#### Welcher eingebettete Satztyp liegt vor? (Subjekt-, Objekt-, Kausal-, Lokal-, Modal-, Temporal-, Relativsatz?)\n",
    "\n",
    "#### Wie läßt sich dieser Satztyp klassifizieren? (Komplement-, Adverbial-, Attributsatz?)\n"
   ]
  },
  {
   "cell_type": "markdown",
   "metadata": {
    "slideshow": {
     "slide_type": "subslide"
    }
   },
   "source": [
    "### *Konstituentenanalyse:*"
   ]
  },
  {
   "cell_type": "code",
   "execution_count": 26,
   "metadata": {},
   "outputs": [
    {
     "name": "stdout",
     "output_type": "stream",
     "text": [
      "                  ROOT                            \n",
      "                   │                               \n",
      "                   S                              \n",
      "     ┌─────────────┴────────┬───────────────────┐  \n",
      "     S                      │                   │ \n",
      "     │                      │                   │  \n",
      "     VP                     VP                  │ \n",
      " ┌───┴───┐         ┌────────┴───┐               │  \n",
      " │       VP        │            VP              │ \n",
      " │   ┌───┴───┐     │    ┌───────┴───┐           │  \n",
      " │   │      ADVP   │    │           NP          │ \n",
      " │   │       │     │    │       ┌───┴─────┐     │  \n",
      " TO  VB      RB    MD   VB      DT        NN    . \n",
      " │   │       │     │    │       │         │     │  \n",
      " To  go     now  would  be      a      mistake  . \n",
      "\n"
     ]
    }
   ],
   "source": [
    "tree_str = '(ROOT (S (S (VP (TO To) (VP (VB go) (ADVP (RB now))))) (VP (MD would) (VP (VB be) (NP (DT a) (NN mistake)))) (. .)))'\n",
    "Tree.fromstring(tree_str).pretty_print(unicodelines=True)"
   ]
  },
  {
   "cell_type": "markdown",
   "metadata": {
    "slideshow": {
     "slide_type": "fragment"
    }
   },
   "source": [
    "#### Geben Sie die CFG-Ableitungsregeln für diese komplexe Satzkonstruktion an:"
   ]
  },
  {
   "cell_type": "markdown",
   "metadata": {},
   "source": [
    "*Hier fehlt Ihre Lösung*"
   ]
  },
  {
   "cell_type": "markdown",
   "metadata": {
    "slideshow": {
     "slide_type": "subslide"
    }
   },
   "source": [
    "---\n",
    "### *Dependenzanalyse:*"
   ]
  },
  {
   "cell_type": "code",
   "execution_count": 27,
   "metadata": {},
   "outputs": [],
   "source": [
    "sent_nr = \"\"\"\n",
    "1 to\n",
    "2 go\n",
    "3 now\n",
    "4 would\n",
    "5 be\n",
    "6 a\n",
    "7 mistake\n",
    "\"\"\"\n",
    "\n",
    "#show_dep_trees(sent_nr)"
   ]
  },
  {
   "cell_type": "markdown",
   "metadata": {
    "slideshow": {
     "slide_type": "fragment"
    }
   },
   "source": [
    "#### Geben Sie die Dependenzregeln für diese komplexe Satzkonstruktion an:"
   ]
  },
  {
   "cell_type": "markdown",
   "metadata": {
    "slideshow": {
     "slide_type": "subslide"
    }
   },
   "source": [
    "*Hier fehlt Ihre Lösung:*\n"
   ]
  },
  {
   "cell_type": "markdown",
   "metadata": {},
   "source": [
    "---\n",
    "## Aufgabe 2: Stellungsfeldermodell\n",
    "\n",
    "#### Zerlegen Sie den folgenden Satz in Satzklammern und Stellungsfelder. \n",
    "\n",
    "#### Analysieren Sie sowohl den Haupt- als auch den Nebensatz auf diese Weise.\n",
    "\n",
    "*Der kleine Junge hat heute das Buch gelesen, das ihm sein Vater zu Weihnachten geschenkt hat.*\n",
    "\n",
    "\n",
    " | | Vorfeld          | linke SK | Mittelfeld                    | rechte SK | Nachfeld              |\n",
    "|------------|------------------|----------|-------------------------------|-----------|-----------------------|\n",
    "|***HAUPTSATZ:*** |  | LSK  |   | RSK |  |\n",
    "|***NEBENSATZ:***|   | LSK   |   | RSK |  |       \n"
   ]
  },
  {
   "cell_type": "markdown",
   "metadata": {
    "slideshow": {
     "slide_type": "slide"
    }
   },
   "source": [
    "---\n",
    "# Hausaufgaben"
   ]
  },
  {
   "cell_type": "markdown",
   "metadata": {},
   "source": [
    "---\n",
    "## Aufgabe 3: Imperativ ohne Subjekt\n",
    "\n",
    "#### Betrachten Sie die folgende kontextfreie Merkmalsgrammatik:"
   ]
  },
  {
   "cell_type": "code",
   "execution_count": 28,
   "metadata": {},
   "outputs": [],
   "source": [
    "grammar = \"\"\"\n",
    "S -> NP VP\n",
    "S -> VP\n",
    "\n",
    "NP -> DET N\n",
    "VP -> V[SUBCAT=tr] NP\n",
    "VP -> V[SUBCAT=intr]\n",
    "\n",
    "DET -> \"das\"\n",
    "N -> \"Kind\" | \"Buch\"\n",
    "\n",
    "V[SUBCAT=tr] -> \"lies\"\n",
    "V[SUBCAT=tr] -> \"liest\"\n",
    "V[SUBCAT=intr] -> \"schlaf\"\n",
    "V[SUBCAT=intr] -> \"schläft\"\n",
    "\"\"\""
   ]
  },
  {
   "cell_type": "markdown",
   "metadata": {},
   "source": [
    "#### Hier wurde versucht, Aufforderungssätze zu modellieren. Allerdings akzeptiert diese Grammatik immer noch viele ungrammatische Sätze.\n",
    "\n",
    "a) Fügen Sie ein Merkmal `MOOD` mit den möglichen Werten *imp* und *ind* für Imperativ und Indikativ hinzu und deklarieren Sie die entsprechenden Werte im Lexikon (den lexikalischen Regeln). <br>\n",
    "b) Formulieren Sie dann Bedingungen in den syntaktischen Regeln, sodass folgende grammatische Sätze (`pos_sentences`) weiterhin akzeptiert und folgende ungrammatische Sätze (`neg_sentences`) abgelehnt werden."
   ]
  },
  {
   "cell_type": "code",
   "execution_count": 29,
   "metadata": {},
   "outputs": [],
   "source": [
    "pos_sentences = [\n",
    "    \"das Kind schläft\",\n",
    "    \"das Kind liest das Buch\",\n",
    "    \"lies das Buch\",\n",
    "    \"schlaf\"\n",
    "]\n",
    "\n",
    "neg_sentences = [\n",
    "    \"das Kind schlaf\",\n",
    "    \"das Kind lies das Buch\",\n",
    "    \"liest das Buch\",\n",
    "    \"schläft\"\n",
    "]"
   ]
  },
  {
   "cell_type": "code",
   "execution_count": 30,
   "metadata": {},
   "outputs": [],
   "source": [
    "def test_grammar(grammar, sentences):\n",
    "    cfg = nltk.grammar.FeatureGrammar.fromstring(grammar)\n",
    "    parser = nltk.parse.FeatureEarleyChartParser(cfg)\n",
    "    \n",
    "    for i, sent in enumerate(sentences, 1):\n",
    "        print(\"Satz {}: {}\".format(i, sent))\n",
    "        sys.stdout.flush()\n",
    "        results = parser.parse(sent.split())\n",
    "        analyzed = False\n",
    "        for tree in results:\n",
    "            tree = Tree.fromstring(str(tree).replace(\", \",\",\"))\n",
    "            #display(tree)\n",
    "            tree.pretty_print(unicodelines=True)\n",
    "            analyzed = True\n",
    "        if not analyzed:\n",
    "            print(\"Keine Analyse möglich\", file=sys.stderr)\n",
    "            sys.stderr.flush()"
   ]
  },
  {
   "cell_type": "markdown",
   "metadata": {},
   "source": [
    "#### Hier sollten nur korrekte Syntaxbäume herauskommen:"
   ]
  },
  {
   "cell_type": "code",
   "execution_count": 31,
   "metadata": {},
   "outputs": [
    {
     "name": "stdout",
     "output_type": "stream",
     "text": [
      "Satz 1: das Kind schläft\n",
      "           S[]                  \n",
      "       ┌────┴──────────┐         \n",
      "      NP[]            VP[]      \n",
      "  ┌────┴────┐          │         \n",
      "DET[]      N[]  V[SUBCAT='intr']\n",
      "  │         │          │         \n",
      " das       Kind     schläft     \n",
      "\n",
      "Satz 2: das Kind liest das Buch\n",
      "                     S[]                      \n",
      "       ┌──────────────┴──────────┐             \n",
      "       │                        VP[]          \n",
      "       │              ┌──────────┴────┐        \n",
      "      NP[]            │              NP[]     \n",
      "  ┌────┴────┐         │          ┌────┴────┐   \n",
      "DET[]      N[]  V[SUBCAT='tr'] DET[]      N[] \n",
      "  │         │         │          │         │   \n",
      " das       Kind     liest       das       Buch\n",
      "\n",
      "Satz 3: lies das Buch\n",
      "                S[]           \n",
      "                 │             \n",
      "                VP[]          \n",
      "      ┌──────────┴────┐        \n",
      "      │              NP[]     \n",
      "      │          ┌────┴────┐   \n",
      "V[SUBCAT='tr'] DET[]      N[] \n",
      "      │          │         │   \n",
      "     lies       das       Buch\n",
      "\n",
      "Satz 4: schlaf\n",
      "      S[]       \n",
      "       │         \n",
      "      VP[]      \n",
      "       │         \n",
      "V[SUBCAT='intr']\n",
      "       │         \n",
      "     schlaf     \n",
      "\n"
     ]
    }
   ],
   "source": [
    "test_grammar(grammar, pos_sentences)"
   ]
  },
  {
   "cell_type": "markdown",
   "metadata": {},
   "source": [
    "#### Hier sollte ausschließlich `Keine Analyse möglich` stehen:"
   ]
  },
  {
   "cell_type": "code",
   "execution_count": 32,
   "metadata": {},
   "outputs": [
    {
     "name": "stdout",
     "output_type": "stream",
     "text": [
      "Satz 1: das Kind schlaf\n",
      "           S[]                  \n",
      "       ┌────┴──────────┐         \n",
      "      NP[]            VP[]      \n",
      "  ┌────┴────┐          │         \n",
      "DET[]      N[]  V[SUBCAT='intr']\n",
      "  │         │          │         \n",
      " das       Kind      schlaf     \n",
      "\n",
      "Satz 2: das Kind lies das Buch\n",
      "                     S[]                      \n",
      "       ┌──────────────┴──────────┐             \n",
      "       │                        VP[]          \n",
      "       │              ┌──────────┴────┐        \n",
      "      NP[]            │              NP[]     \n",
      "  ┌────┴────┐         │          ┌────┴────┐   \n",
      "DET[]      N[]  V[SUBCAT='tr'] DET[]      N[] \n",
      "  │         │         │          │         │   \n",
      " das       Kind      lies       das       Buch\n",
      "\n",
      "Satz 3: liest das Buch\n",
      "                S[]           \n",
      "                 │             \n",
      "                VP[]          \n",
      "      ┌──────────┴────┐        \n",
      "      │              NP[]     \n",
      "      │          ┌────┴────┐   \n",
      "V[SUBCAT='tr'] DET[]      N[] \n",
      "      │          │         │   \n",
      "    liest       das       Buch\n",
      "\n",
      "Satz 4: schläft\n",
      "      S[]       \n",
      "       │         \n",
      "      VP[]      \n",
      "       │         \n",
      "V[SUBCAT='intr']\n",
      "       │         \n",
      "    schläft     \n",
      "\n"
     ]
    }
   ],
   "source": [
    "test_grammar(grammar, neg_sentences)"
   ]
  }
 ],
 "metadata": {
  "kernelspec": {
   "display_name": "Python 3 (ipykernel)",
   "language": "python",
   "name": "python3"
  },
  "language_info": {
   "codemirror_mode": {
    "name": "ipython",
    "version": 3
   },
   "file_extension": ".py",
   "mimetype": "text/x-python",
   "name": "python",
   "nbconvert_exporter": "python",
   "pygments_lexer": "ipython3",
   "version": "3.9.12"
  }
 },
 "nbformat": 4,
 "nbformat_minor": 2
}
