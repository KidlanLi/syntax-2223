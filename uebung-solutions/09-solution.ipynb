{
 "cells": [
  {
   "cell_type": "markdown",
   "metadata": {},
   "source": [
    "***Syntax natürlicher Sprachen, WS 2022/23***\n",
    "\n",
    "---\n",
    "# Übung 9 (Lösung)"
   ]
  },
  {
   "cell_type": "code",
   "execution_count": 1,
   "metadata": {},
   "outputs": [],
   "source": [
    "import nltk"
   ]
  },
  {
   "cell_type": "markdown",
   "metadata": {},
   "source": [
    "---\n",
    "\n",
    "## Aufgabe 1: Parsing-Algorithmen\n",
    "\n",
    "#### Gegeben sei folgende kontextfreie Grammatik:"
   ]
  },
  {
   "cell_type": "code",
   "execution_count": 2,
   "metadata": {},
   "outputs": [],
   "source": [
    "grammar = nltk.CFG.fromstring(\"\"\"\n",
    "S -> NP VP\n",
    "\n",
    "NP  -> DET NOM\n",
    "NOM -> ADJ NOM | N\n",
    "\n",
    "ADJ -> \"schöne\" | \"kluge\" | \"dicke\"\n",
    "DET -> \"der\" | \"die\" | \"das\"\n",
    "N   -> \"Mann\" | \"Frau\" | \"Buch\"\n",
    "\n",
    "VP -> V NP NP | V NP | V\n",
    "V  -> \"gibt\" | \"schenkt\" | \"schläft\" | \"gefällt\" | \"kennt\"\n",
    "\"\"\")"
   ]
  },
  {
   "cell_type": "markdown",
   "metadata": {},
   "source": [
    "#### Parsen Sie jeweils alle unten angegebenen Sätze mit jedem der folgenden Parsing-Algorithmen. Bei der Auswahl von Regeln soll immer von oben nach unten und (bei Alternativen) von links nach rechts vorgegangen werden.\n",
    "\n",
    "a) Recursive Descent <br>\n",
    "b) Shift Reduce <br>\n",
    "c) Earley Algorithmus <br>\n",
    "\n",
    "    1. Der Mann gibt der Frau das Buch.\n",
    "    2. Die kluge Frau kennt das dicke Buch.\n",
    "    3. Der Mann schläft."
   ]
  },
  {
   "cell_type": "markdown",
   "metadata": {},
   "source": [
    "--- \n",
    "#### Geben Sie hier einen der Beispielsätze an:"
   ]
  },
  {
   "cell_type": "code",
   "execution_count": 3,
   "metadata": {},
   "outputs": [],
   "source": [
    "sent = 'der Mann schläft'.split()"
   ]
  },
  {
   "cell_type": "markdown",
   "metadata": {},
   "source": [
    "--- \n",
    "### Recursive-Descent-Parser:"
   ]
  },
  {
   "cell_type": "code",
   "execution_count": 4,
   "metadata": {
    "scrolled": false
   },
   "outputs": [
    {
     "name": "stdout",
     "output_type": "stream",
     "text": [
      "Parsing 'der Mann schläft'\n",
      "Start:\n",
      "    [ * S ]\n",
      "Expand: S -> NP VP\n",
      "    [ * NP VP ]\n",
      "Expand: NP -> DET NOM\n",
      "    [ * DET NOM VP ]\n",
      "Expand: DET -> 'der'\n",
      "    [ * 'der' NOM VP ]\n",
      "Match: 'der'\n",
      "    [ 'der' * NOM VP ]\n",
      "Expand: NOM -> ADJ NOM\n",
      "    [ 'der' * ADJ NOM VP ]\n",
      "Expand: ADJ -> 'schöne'\n",
      "    [ 'der' * 'schöne' NOM VP ]\n",
      "Backtrack: 'Mann' match failed\n",
      "Expand: ADJ -> 'kluge'\n",
      "    [ 'der' * 'kluge' NOM VP ]\n",
      "Backtrack: 'Mann' match failed\n",
      "Expand: ADJ -> 'dicke'\n",
      "    [ 'der' * 'dicke' NOM VP ]\n",
      "Backtrack: 'Mann' match failed\n",
      "Expand: NOM -> N\n",
      "    [ 'der' * N VP ]\n",
      "Expand: N -> 'Mann'\n",
      "    [ 'der' * 'Mann' VP ]\n",
      "Match: 'Mann'\n",
      "    [ 'der' 'Mann' * VP ]\n",
      "Expand: VP -> V NP NP\n",
      "    [ 'der' 'Mann' * V NP NP ]\n",
      "Expand: V -> 'gibt'\n",
      "    [ 'der' 'Mann' * 'gibt' NP NP ]\n",
      "Backtrack: 'schläft' match failed\n",
      "Expand: V -> 'schenkt'\n",
      "    [ 'der' 'Mann' * 'schenkt' NP NP ]\n",
      "Backtrack: 'schläft' match failed\n",
      "Expand: V -> 'schläft'\n",
      "    [ 'der' 'Mann' * 'schläft' NP NP ]\n",
      "Match: 'schläft'\n",
      "    [ 'der' 'Mann' 'schläft' * NP NP ]\n",
      "Expand: NP -> DET NOM\n",
      "    [ 'der' 'Mann' 'schläft' * DET NOM NP ]\n",
      "Expand: DET -> 'der'\n",
      "    [ 'der' 'Mann' 'schläft' * 'der' NOM NP ]\n",
      "Backtrack\n",
      "Expand: DET -> 'die'\n",
      "    [ 'der' 'Mann' 'schläft' * 'die' NOM NP ]\n",
      "Backtrack\n",
      "Expand: DET -> 'das'\n",
      "    [ 'der' 'Mann' 'schläft' * 'das' NOM NP ]\n",
      "Backtrack\n",
      "Expand: V -> 'gefällt'\n",
      "    [ 'der' 'Mann' * 'gefällt' NP NP ]\n",
      "Backtrack: 'schläft' match failed\n",
      "Expand: V -> 'kennt'\n",
      "    [ 'der' 'Mann' * 'kennt' NP NP ]\n",
      "Backtrack: 'schläft' match failed\n",
      "Expand: VP -> V NP\n",
      "    [ 'der' 'Mann' * V NP ]\n",
      "Expand: V -> 'gibt'\n",
      "    [ 'der' 'Mann' * 'gibt' NP ]\n",
      "Backtrack: 'schläft' match failed\n",
      "Expand: V -> 'schenkt'\n",
      "    [ 'der' 'Mann' * 'schenkt' NP ]\n",
      "Backtrack: 'schläft' match failed\n",
      "Expand: V -> 'schläft'\n",
      "    [ 'der' 'Mann' * 'schläft' NP ]\n",
      "Match: 'schläft'\n",
      "    [ 'der' 'Mann' 'schläft' * NP ]\n",
      "Expand: NP -> DET NOM\n",
      "    [ 'der' 'Mann' 'schläft' * DET NOM ]\n",
      "Expand: DET -> 'der'\n",
      "    [ 'der' 'Mann' 'schläft' * 'der' NOM ]\n",
      "Backtrack\n",
      "Expand: DET -> 'die'\n",
      "    [ 'der' 'Mann' 'schläft' * 'die' NOM ]\n",
      "Backtrack\n",
      "Expand: DET -> 'das'\n",
      "    [ 'der' 'Mann' 'schläft' * 'das' NOM ]\n",
      "Backtrack\n",
      "Expand: V -> 'gefällt'\n",
      "    [ 'der' 'Mann' * 'gefällt' NP ]\n",
      "Backtrack: 'schläft' match failed\n",
      "Expand: V -> 'kennt'\n",
      "    [ 'der' 'Mann' * 'kennt' NP ]\n",
      "Backtrack: 'schläft' match failed\n",
      "Expand: VP -> V\n",
      "    [ 'der' 'Mann' * V ]\n",
      "Expand: V -> 'gibt'\n",
      "    [ 'der' 'Mann' * 'gibt' ]\n",
      "Backtrack: 'schläft' match failed\n",
      "Expand: V -> 'schenkt'\n",
      "    [ 'der' 'Mann' * 'schenkt' ]\n",
      "Backtrack: 'schläft' match failed\n",
      "Expand: V -> 'schläft'\n",
      "    [ 'der' 'Mann' * 'schläft' ]\n",
      "Match: 'schläft'\n",
      "    [ 'der' 'Mann' 'schläft' ]\n",
      "GOOD PARSE:\n",
      "    [ 'der' 'Mann' 'schläft' ]\n",
      "         S          \n",
      "     ┌───┴──────┐    \n",
      "     NP         │   \n",
      " ┌───┴───┐      │    \n",
      " │      NOM     VP  \n",
      " │       │      │    \n",
      "DET      N      V   \n",
      " │       │      │    \n",
      "der     Mann schläft\n",
      "\n",
      "Expand: V -> 'gefällt'\n",
      "    [ 'der' 'Mann' * 'gefällt' ]\n",
      "Backtrack: 'schläft' match failed\n",
      "Expand: V -> 'kennt'\n",
      "    [ 'der' 'Mann' * 'kennt' ]\n",
      "Backtrack: 'schläft' match failed\n",
      "Expand: N -> 'Frau'\n",
      "    [ 'der' * 'Frau' VP ]\n",
      "Backtrack: 'Mann' match failed\n",
      "Expand: N -> 'Buch'\n",
      "    [ 'der' * 'Buch' VP ]\n",
      "Backtrack: 'Mann' match failed\n",
      "Expand: DET -> 'die'\n",
      "    [ * 'die' NOM VP ]\n",
      "Backtrack: 'der' match failed\n",
      "Expand: DET -> 'das'\n",
      "    [ * 'das' NOM VP ]\n",
      "Backtrack: 'der' match failed\n"
     ]
    }
   ],
   "source": [
    "##Recursive Descent Parser:\n",
    "parser = nltk.RecursiveDescentParser(grammar, trace=3)\n",
    "for tree in parser.parse(sent):\n",
    "    tree.pretty_print(unicodelines=True)"
   ]
  },
  {
   "cell_type": "markdown",
   "metadata": {},
   "source": [
    "--- \n",
    "### Shift-Reduce-Parser:"
   ]
  },
  {
   "cell_type": "code",
   "execution_count": 5,
   "metadata": {},
   "outputs": [
    {
     "name": "stdout",
     "output_type": "stream",
     "text": [
      "Warning: VP -> V NP NP will never be used\n",
      "Warning: VP -> V NP NP will never be used\n",
      "Warning: VP -> V NP will never be used\n",
      "Parsing 'der Mann schläft'\n",
      "    [ * der Mann schläft]\n",
      "  S [ 'der' * Mann schläft]\n",
      "  R [ DET * Mann schläft]\n",
      "  S [ DET 'Mann' * schläft]\n",
      "  R [ DET N * schläft]\n",
      "  R [ DET NOM * schläft]\n",
      "  R [ NP * schläft]\n",
      "  S [ NP 'schläft' * ]\n",
      "  R [ NP V * ]\n",
      "  R [ NP VP * ]\n",
      "  R [ S * ]\n",
      "         S          \n",
      "     ┌───┴──────┐    \n",
      "     NP         │   \n",
      " ┌───┴───┐      │    \n",
      " │      NOM     VP  \n",
      " │       │      │    \n",
      "DET      N      V   \n",
      " │       │      │    \n",
      "der     Mann schläft\n",
      "\n"
     ]
    }
   ],
   "source": [
    "##Shift Reduce Parser:\n",
    "parser = nltk.ShiftReduceParser(grammar, trace=2)\n",
    "for tree in parser.parse(sent):\n",
    "    tree.pretty_print(unicodelines=True)"
   ]
  },
  {
   "cell_type": "markdown",
   "metadata": {},
   "source": [
    "--- \n",
    "### Earley-Parser:"
   ]
  },
  {
   "cell_type": "code",
   "execution_count": 6,
   "metadata": {},
   "outputs": [
    {
     "name": "stdout",
     "output_type": "stream",
     "text": [
      "|.    der    .    Mann   .  schläft  .|\n",
      "Leaf Init Rule:\n",
      "|[-----------]           .           .| [0:1] 'der'\n",
      "|.           [-----------]           .| [1:2] 'Mann'\n",
      "|.           .           [-----------]| [2:3] 'schläft'\n",
      "Top Down Init Rule:\n",
      "|>           .           .           .| [0:0] S  -> * NP VP\n",
      "\n",
      "* Processing queue: 0 \n",
      "\n",
      "Predictor Rule:\n",
      "|>           .           .           .| [0:0] NP -> * DET NOM\n",
      "Predictor Rule:\n",
      "|>           .           .           .| [0:0] DET -> * 'der'\n",
      "\n",
      "* Processing queue: 1 \n",
      "\n",
      "Scanner Rule:\n",
      "|[-----------]           .           .| [0:1] DET -> 'der' *\n",
      "Completer Rule:\n",
      "|[----------->           .           .| [0:1] NP -> DET * NOM\n",
      "Predictor Rule:\n",
      "|.           >           .           .| [1:1] NOM -> * ADJ NOM\n",
      "|.           >           .           .| [1:1] NOM -> * N\n",
      "Predictor Rule:\n",
      "|.           >           .           .| [1:1] N  -> * 'Mann'\n",
      "\n",
      "* Processing queue: 2 \n",
      "\n",
      "Scanner Rule:\n",
      "|.           [-----------]           .| [1:2] N  -> 'Mann' *\n",
      "Completer Rule:\n",
      "|.           [-----------]           .| [1:2] NOM -> N *\n",
      "Completer Rule:\n",
      "|[-----------------------]           .| [0:2] NP -> DET NOM *\n",
      "Completer Rule:\n",
      "|[----------------------->           .| [0:2] S  -> NP * VP\n",
      "Predictor Rule:\n",
      "|.           .           >           .| [2:2] VP -> * V NP NP\n",
      "|.           .           >           .| [2:2] VP -> * V NP\n",
      "|.           .           >           .| [2:2] VP -> * V\n",
      "Predictor Rule:\n",
      "|.           .           >           .| [2:2] V  -> * 'schläft'\n",
      "\n",
      "* Processing queue: 3 \n",
      "\n",
      "Scanner Rule:\n",
      "|.           .           [-----------]| [2:3] V  -> 'schläft' *\n",
      "Completer Rule:\n",
      "|.           .           [----------->| [2:3] VP -> V * NP NP\n",
      "|.           .           [----------->| [2:3] VP -> V * NP\n",
      "|.           .           [-----------]| [2:3] VP -> V *\n",
      "Completer Rule:\n",
      "|[===================================]| [0:3] S  -> NP VP *\n",
      "Predictor Rule:\n",
      "|.           .           .           >| [3:3] NP -> * DET NOM\n",
      "         S          \n",
      "     ┌───┴──────┐    \n",
      "     NP         │   \n",
      " ┌───┴───┐      │    \n",
      " │      NOM     VP  \n",
      " │       │      │    \n",
      "DET      N      V   \n",
      " │       │      │    \n",
      "der     Mann schläft\n",
      "\n"
     ]
    }
   ],
   "source": [
    "## Earley Parser:\n",
    "parser = nltk.EarleyChartParser(grammar, trace=2)\n",
    "for tree in parser.parse(sent):\n",
    "    tree.pretty_print(unicodelines=True)"
   ]
  },
  {
   "cell_type": "markdown",
   "metadata": {},
   "source": [
    "--- \n",
    "# Hausaufgaben"
   ]
  },
  {
   "cell_type": "markdown",
   "metadata": {},
   "source": [
    "---\n",
    "## Aufgabe 3: Parsing-Algorithmen Reloaded\n",
    "\n",
    "#### Kombinationen von Algorithmus und Satz in Aufgabe 1, die während der Präsenzaufgaben nicht behandelt wurden, stellen zusätzliches Übungsmaterial dar.\n"
   ]
  }
 ],
 "metadata": {
  "kernelspec": {
   "display_name": "Python 3 (ipykernel)",
   "language": "python",
   "name": "python3"
  },
  "language_info": {
   "codemirror_mode": {
    "name": "ipython",
    "version": 3
   },
   "file_extension": ".py",
   "mimetype": "text/x-python",
   "name": "python",
   "nbconvert_exporter": "python",
   "pygments_lexer": "ipython3",
   "version": "3.9.12"
  }
 },
 "nbformat": 4,
 "nbformat_minor": 2
}
