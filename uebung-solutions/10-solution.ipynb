{
 "cells": [
  {
   "cell_type": "markdown",
   "metadata": {},
   "source": [
    "***Syntax natürlicher Sprachen, WS 2022/23***\n",
    "\n",
    "---\n",
    "# Übung 10 (Lösung)"
   ]
  },
  {
   "cell_type": "code",
   "execution_count": 40,
   "metadata": {},
   "outputs": [],
   "source": [
    "import nltk\n",
    "from nltk.tree import Tree\n",
    "from nltk.featstruct import FeatStruct\n",
    "from nltk.featstruct import Feature, UnificationFailure\n",
    "import itertools"
   ]
  },
  {
   "cell_type": "code",
   "execution_count": 41,
   "metadata": {},
   "outputs": [],
   "source": [
    "TYPE = nltk.featstruct.TYPE\n",
    "\n",
    "\n",
    "def check_sanity_constraints(th):\n",
    "    for type1, type2 in itertools.product(th, th):\n",
    "        if type1 in th[type2] and type2 in th[type1]:\n",
    "            if type1 != type2:\n",
    "                raise ValueError(\n",
    "                    \"The type hierarchy is not antisymmetric! \" +\n",
    "                    \"{} subsumes {} and vice versa!\".format(\n",
    "                        type1, type2\n",
    "                    )\n",
    "                )\n",
    "\n",
    "\n",
    "def refl_trans_closure(type_hierarchy):\n",
    "    # make everything a set\n",
    "    # and compute reflexive closure\n",
    "    closure = {}\n",
    "    for t in type_hierarchy:\n",
    "        closure[t] = set(type_hierarchy[t])\n",
    "        closure[t].add(t)\n",
    "\n",
    "    # compute transitive closure\n",
    "    still_changes = True\n",
    "    while still_changes:\n",
    "        still_changes = False\n",
    "        for x in closure:\n",
    "            new_for_x = set()\n",
    "            for y in closure[x]:\n",
    "                for z in closure[y]:\n",
    "                    new_for_x.add(z)\n",
    "            len_before = len(closure[x])\n",
    "            closure[x].update(new_for_x)\n",
    "            still_changes |= len(closure[x]) > len_before\n",
    "\n",
    "    return closure\n",
    "\n",
    "\n",
    "class HierarchicalFeature(Feature):\n",
    "    def __init__(self, name, type_hierarchy, **kwargs):\n",
    "        super(HierarchicalFeature, self).__init__(name, **kwargs)\n",
    "\n",
    "        self.hierarchy = refl_trans_closure(type_hierarchy)\n",
    "        check_sanity_constraints(self.hierarchy)\n",
    "\n",
    "    def unify_base_values(self, fval1, fval2, bindings):\n",
    "        candidates = self.hierarchy[fval1].intersection(self.hierarchy[fval2])\n",
    "        score = {t: 0 for t in candidates}\n",
    "        for type1, type2 in itertools.product(candidates, candidates):\n",
    "            if type1 in self.hierarchy[type2]:\n",
    "                score[type1] += 1\n",
    "\n",
    "        return min(candidates, key=score.__getitem__, default=UnificationFailure)\n"
   ]
  },
  {
   "cell_type": "markdown",
   "metadata": {},
   "source": [
    "---\n",
    "## Aufgabe 1: Unifikation I\n",
    "\n",
    "#### Gegeben seien folgende Merkmalstrukturen:"
   ]
  },
  {
   "cell_type": "code",
   "execution_count": 2,
   "metadata": {},
   "outputs": [],
   "source": [
    "f1 = FeatStruct(\n",
    "    '[Vorname=Max, Nachname=Mustermann,' + \n",
    "    'Privat=[Strasse=Hauptstrasse, Ort=[Stadt=Muenchen]]]'\n",
    ")\n",
    "f2 = FeatStruct(\n",
    "    '[Arbeit=[Strasse=\"Oettingenstrasse\", Ort=(1)[Stadt=Muenchen]],' +\n",
    "    'Privat=[Ort->(1)]]')\n",
    "f3 = FeatStruct(\n",
    "    '[Strasse=\"Hauptstrasse\"]'\n",
    ")\n",
    "f4 = FeatStruct(\n",
    "    '[Privat=[Strasse=\"Hauptstrasse\", Ort=[Stadt=Passau]]]'\n",
    ")"
   ]
  },
  {
   "cell_type": "markdown",
   "metadata": {},
   "source": [
    "### 1a) Unifizieren f1 und f2? Gegeben Sie ggf. das Ergebnis an.\n",
    "\n",
    "ja"
   ]
  },
  {
   "cell_type": "code",
   "execution_count": 3,
   "metadata": {
    "scrolled": true
   },
   "outputs": [
    {
     "name": "stdout",
     "output_type": "stream",
     "text": [
      "[ Nachname = 'Mustermann'                         ]\n",
      "[                                                 ]\n",
      "[            [ Ort     = [ Stadt = 'Muenchen' ] ] ]\n",
      "[ Privat   = [                                  ] ]\n",
      "[            [ Strasse = 'Hauptstrasse'         ] ]\n",
      "[                                                 ]\n",
      "[ Vorname  = 'Max'                                ]\n"
     ]
    }
   ],
   "source": [
    "print(f1)"
   ]
  },
  {
   "cell_type": "code",
   "execution_count": 4,
   "metadata": {},
   "outputs": [
    {
     "name": "stdout",
     "output_type": "stream",
     "text": [
      "[          [ Ort     = (1) [ Stadt = 'Muenchen' ] ] ]\n",
      "[ Arbeit = [                                      ] ]\n",
      "[          [ Strasse = 'Oettingenstrasse'         ] ]\n",
      "[                                                   ]\n",
      "[ Privat = [ Ort -> (1) ]                           ]\n"
     ]
    }
   ],
   "source": [
    "print(f2)"
   ]
  },
  {
   "cell_type": "code",
   "execution_count": 5,
   "metadata": {},
   "outputs": [
    {
     "name": "stdout",
     "output_type": "stream",
     "text": [
      "[            [ Ort     = (1) [ Stadt = 'Muenchen' ] ] ]\n",
      "[ Arbeit   = [                                      ] ]\n",
      "[            [ Strasse = 'Oettingenstrasse'         ] ]\n",
      "[                                                     ]\n",
      "[ Nachname = 'Mustermann'                             ]\n",
      "[                                                     ]\n",
      "[ Privat   = [ Ort     -> (1)           ]             ]\n",
      "[            [ Strasse = 'Hauptstrasse' ]             ]\n",
      "[                                                     ]\n",
      "[ Vorname  = 'Max'                                    ]\n"
     ]
    }
   ],
   "source": [
    "#### Mit der Ausführung des print-Statements können Sie abschließend die Lösung einsehen:\n",
    "print(f1.unify(f2))"
   ]
  },
  {
   "cell_type": "markdown",
   "metadata": {},
   "source": [
    "### 1b) Unifizieren f2 und f4? Gegeben Sie ggf. das Ergebnis an.\n",
    "\n",
    "nein"
   ]
  },
  {
   "cell_type": "code",
   "execution_count": 6,
   "metadata": {},
   "outputs": [
    {
     "name": "stdout",
     "output_type": "stream",
     "text": [
      "[          [ Ort     = (1) [ Stadt = 'Muenchen' ] ] ]\n",
      "[ Arbeit = [                                      ] ]\n",
      "[          [ Strasse = 'Oettingenstrasse'         ] ]\n",
      "[                                                   ]\n",
      "[ Privat = [ Ort -> (1) ]                           ]\n"
     ]
    }
   ],
   "source": [
    "print(f2)"
   ]
  },
  {
   "cell_type": "code",
   "execution_count": 7,
   "metadata": {},
   "outputs": [
    {
     "name": "stdout",
     "output_type": "stream",
     "text": [
      "[          [ Ort     = [ Stadt = 'Passau' ] ] ]\n",
      "[ Privat = [                                ] ]\n",
      "[          [ Strasse = 'Hauptstrasse'       ] ]\n"
     ]
    }
   ],
   "source": [
    "print(f4)"
   ]
  },
  {
   "cell_type": "code",
   "execution_count": 8,
   "metadata": {
    "scrolled": true
   },
   "outputs": [
    {
     "name": "stdout",
     "output_type": "stream",
     "text": [
      "None\n"
     ]
    }
   ],
   "source": [
    "#### Mit der Ausführung des print-Statements können Sie abschließend die Lösung einsehen:\n",
    "print(f2.unify(f4))"
   ]
  },
  {
   "cell_type": "markdown",
   "metadata": {},
   "source": [
    "---\n",
    "## Aufgabe 2:  Typhierarchie im NLTK\n",
    "\n",
    "#### Gegeben sei folgende Typhierarchie:\n",
    "\n",
    "$$\\bot \\sqsubseteq \\text{Genitiv}$$\n",
    "$$\\bot \\sqsubseteq \\text{nicht-Genitiv}$$\n",
    "$$\\text{nicht-Genitiv} \\sqsubseteq \\text{Nominativ-Akkusativ}$$\n",
    "$$\\text{nicht-Genitiv} \\sqsubseteq \\text{Dativ}$$\n",
    "$$\\text{Nominativ-Akkusativ} \\sqsubseteq \\text{Nominativ}$$\n",
    "$$\\text{Nominativ-Akkusativ} \\sqsubseteq \\text{Akkusativ}$$\n",
    "\n",
    "#### Implementieren Sie mithilfe der Klasse `HierarchicalFeature`, die Sie mit der folgenden Zelle importieren können, ein Feature `CASE`, das der vorgegebenen Typhierarchie entspricht.\n"
   ]
  },
  {
   "cell_type": "markdown",
   "metadata": {},
   "source": [
    "\n",
    "#### Nutzen Sie dieses Feature dann, um Übergenerierung in folgender Grammatik zu vermeiden:"
   ]
  },
  {
   "cell_type": "code",
   "execution_count": 10,
   "metadata": {},
   "outputs": [],
   "source": [
    "grammar = \"\"\"\n",
    "S -> NP[*CASE*=Nom] VP\n",
    "NP[*CASE*=?x] -> DET[*CASE*=?x,GEN=?y] NOM[*CASE*=?x,GEN=?y]\n",
    "NOM[*CASE*=?x,GEN=?y] -> N[*CASE*=?x,GEN=?y] NP[*CASE*=Gen] | N[*CASE*=?x,GEN=?y]\n",
    "VP -> V\n",
    "\n",
    "V -> \"schläft\"\n",
    "DET[GEN=mask,*CASE*=Nom] -> \"der\"\n",
    "DET[GEN=mask,*CASE*=Gen] -> \"des\"\n",
    "DET[GEN=fem,*CASE*=NomAkk] -> \"die\"\n",
    "DET[GEN=fem,*CASE*=Gen] -> \"der\"\n",
    "DET[GEN=fem,*CASE*=Dat] -> \"der\"\n",
    "DET[GEN=neut,*CASE*=NomAkk] -> \"das\"\n",
    "DET[GEN=neut,*CASE*=Gen] -> \"des\"\n",
    "\n",
    "N[GEN=mask,*CASE*=nonGen] -> \"Mann\"\n",
    "N[GEN=mask,*CASE*=Gen] -> \"Mannes\"\n",
    "N[GEN=fem] -> \"Frau\"\n",
    "N[GEN=neut,*CASE*=nonGen] -> \"Kind\"\n",
    "N[GEN=neut,*CASE*=Gen] -> \"Kindes\"\n",
    "\"\"\""
   ]
  },
  {
   "cell_type": "markdown",
   "metadata": {},
   "source": [
    "#### Hier muss die Typhierarchie in Form eines `Dictionary` definiert werden:"
   ]
  },
  {
   "cell_type": "code",
   "execution_count": 11,
   "metadata": {},
   "outputs": [],
   "source": [
    "type_hierarchy = {\n",
    "    \"nonGen\": [\"NomAkk\", \"Dat\"],\n",
    "    \"NomAkk\": [\"Nom\", \"Akk\"],\n",
    "    \"Dat\": [],\n",
    "    \"Akk\": [],\n",
    "    \"Gen\": [],\n",
    "    \"Nom\": []\n",
    "}"
   ]
  },
  {
   "cell_type": "code",
   "execution_count": 12,
   "metadata": {},
   "outputs": [],
   "source": [
    "CASE = HierarchicalFeature(\"CASE\", type_hierarchy)\n",
    "compiled_grammar = nltk.grammar.FeatureGrammar.fromstring(\n",
    "    grammar, features=(CASE, TYPE)\n",
    ")\n",
    "parser = nltk.FeatureEarleyChartParser(compiled_grammar)"
   ]
  },
  {
   "cell_type": "markdown",
   "metadata": {},
   "source": [
    "#### Folgendes sollte funktionieren:"
   ]
  },
  {
   "cell_type": "code",
   "execution_count": 22,
   "metadata": {},
   "outputs": [
    {
     "data": {
      "image/svg+xml": [
       "<svg baseProfile=\"full\" height=\"312px\" preserveAspectRatio=\"xMidYMid meet\" style=\"font-family: times, serif; font-weight:normal; font-style: normal; font-size: 16px;\" version=\"1.1\" viewBox=\"0,0,1064.0,312.0\" width=\"1064px\" xmlns=\"http://www.w3.org/2000/svg\" xmlns:ev=\"http://www.w3.org/2001/xml-events\" xmlns:xlink=\"http://www.w3.org/1999/xlink\"><defs /><svg width=\"100%\" x=\"0\" y=\"0em\"><defs /><text text-anchor=\"middle\" x=\"50%\" y=\"1em\">S[]</text></svg><svg width=\"93.2331%\" x=\"0%\" y=\"3em\"><defs /><svg width=\"100%\" x=\"0\" y=\"0em\"><defs /><text text-anchor=\"middle\" x=\"50%\" y=\"1em\">NP[*CASE*='NomAkk']</text></svg><svg width=\"26.6129%\" x=\"0%\" y=\"3em\"><defs /><svg width=\"100%\" x=\"0\" y=\"0em\"><defs /><text text-anchor=\"middle\" x=\"50%\" y=\"1em\">DET[*CASE*='NomAkk',GEN='neut']</text></svg><svg width=\"100%\" x=\"0%\" y=\"3em\"><defs /><svg width=\"100%\" x=\"0\" y=\"0em\"><defs /><text text-anchor=\"middle\" x=\"50%\" y=\"1em\">das</text></svg></svg><line stroke=\"black\" x1=\"50%\" x2=\"50%\" y1=\"1.2em\" y2=\"3em\" /></svg><line stroke=\"black\" x1=\"50%\" x2=\"13.3065%\" y1=\"1.2em\" y2=\"3em\" /><svg width=\"73.3871%\" x=\"26.6129%\" y=\"3em\"><defs /><svg width=\"100%\" x=\"0\" y=\"0em\"><defs /><text text-anchor=\"middle\" x=\"50%\" y=\"1em\">NOM[*CASE*='nonGen',GEN='neut']</text></svg><svg width=\"34.0659%\" x=\"0%\" y=\"3em\"><defs /><svg width=\"100%\" x=\"0\" y=\"0em\"><defs /><text text-anchor=\"middle\" x=\"50%\" y=\"1em\">N[*CASE*='nonGen',GEN='neut']</text></svg><svg width=\"100%\" x=\"0%\" y=\"3em\"><defs /><svg width=\"100%\" x=\"0\" y=\"0em\"><defs /><text text-anchor=\"middle\" x=\"50%\" y=\"1em\">Kind</text></svg></svg><line stroke=\"black\" x1=\"50%\" x2=\"50%\" y1=\"1.2em\" y2=\"3em\" /></svg><line stroke=\"black\" x1=\"50%\" x2=\"17.033%\" y1=\"1.2em\" y2=\"3em\" /><svg width=\"65.9341%\" x=\"34.0659%\" y=\"3em\"><defs /><svg width=\"100%\" x=\"0\" y=\"0em\"><defs /><text text-anchor=\"middle\" x=\"50%\" y=\"1em\">NP[*CASE*='Gen']</text></svg><svg width=\"50%\" x=\"0%\" y=\"3em\"><defs /><svg width=\"100%\" x=\"0\" y=\"0em\"><defs /><text text-anchor=\"middle\" x=\"50%\" y=\"1em\">DET[*CASE*='Gen',GEN='mask']</text></svg><svg width=\"100%\" x=\"0%\" y=\"3em\"><defs /><svg width=\"100%\" x=\"0\" y=\"0em\"><defs /><text text-anchor=\"middle\" x=\"50%\" y=\"1em\">des</text></svg></svg><line stroke=\"black\" x1=\"50%\" x2=\"50%\" y1=\"1.2em\" y2=\"3em\" /></svg><line stroke=\"black\" x1=\"50%\" x2=\"25%\" y1=\"1.2em\" y2=\"3em\" /><svg width=\"50%\" x=\"50%\" y=\"3em\"><defs /><svg width=\"100%\" x=\"0\" y=\"0em\"><defs /><text text-anchor=\"middle\" x=\"50%\" y=\"1em\">NOM[*CASE*='Gen',GEN='mask']</text></svg><svg width=\"100%\" x=\"0%\" y=\"3em\"><defs /><svg width=\"100%\" x=\"0\" y=\"0em\"><defs /><text text-anchor=\"middle\" x=\"50%\" y=\"1em\">N[*CASE*='Gen',GEN='mask']</text></svg><svg width=\"100%\" x=\"0%\" y=\"3em\"><defs /><svg width=\"100%\" x=\"0\" y=\"0em\"><defs /><text text-anchor=\"middle\" x=\"50%\" y=\"1em\">Mannes</text></svg></svg><line stroke=\"black\" x1=\"50%\" x2=\"50%\" y1=\"1.2em\" y2=\"3em\" /></svg><line stroke=\"black\" x1=\"50%\" x2=\"50%\" y1=\"1.2em\" y2=\"3em\" /></svg><line stroke=\"black\" x1=\"50%\" x2=\"75%\" y1=\"1.2em\" y2=\"3em\" /></svg><line stroke=\"black\" x1=\"50%\" x2=\"67.033%\" y1=\"1.2em\" y2=\"3em\" /></svg><line stroke=\"black\" x1=\"50%\" x2=\"63.3065%\" y1=\"1.2em\" y2=\"3em\" /></svg><line stroke=\"black\" x1=\"50%\" x2=\"46.6165%\" y1=\"1.2em\" y2=\"3em\" /><svg width=\"6.76692%\" x=\"93.2331%\" y=\"3em\"><defs /><svg width=\"100%\" x=\"0\" y=\"0em\"><defs /><text text-anchor=\"middle\" x=\"50%\" y=\"1em\">VP[]</text></svg><svg width=\"100%\" x=\"0%\" y=\"3em\"><defs /><svg width=\"100%\" x=\"0\" y=\"0em\"><defs /><text text-anchor=\"middle\" x=\"50%\" y=\"1em\">V[]</text></svg><svg width=\"100%\" x=\"0%\" y=\"3em\"><defs /><svg width=\"100%\" x=\"0\" y=\"0em\"><defs /><text text-anchor=\"middle\" x=\"50%\" y=\"1em\">schläft</text></svg></svg><line stroke=\"black\" x1=\"50%\" x2=\"50%\" y1=\"1.2em\" y2=\"3em\" /></svg><line stroke=\"black\" x1=\"50%\" x2=\"50%\" y1=\"1.2em\" y2=\"3em\" /></svg><line stroke=\"black\" x1=\"50%\" x2=\"96.6165%\" y1=\"1.2em\" y2=\"3em\" /></svg>"
      ],
      "text/plain": [
       "Tree('S[]', [Tree(\"NP[*CASE*='NomAkk']\", [Tree(\"DET[*CASE*='NomAkk',GEN='neut']\", ['das']), Tree(\"NOM[*CASE*='nonGen',GEN='neut']\", [Tree(\"N[*CASE*='nonGen',GEN='neut']\", ['Kind']), Tree(\"NP[*CASE*='Gen']\", [Tree(\"DET[*CASE*='Gen',GEN='mask']\", ['des']), Tree(\"NOM[*CASE*='Gen',GEN='mask']\", [Tree(\"N[*CASE*='Gen',GEN='mask']\", ['Mannes'])])])])]), Tree('VP[]', [Tree('V[]', ['schläft'])])])"
      ]
     },
     "metadata": {},
     "output_type": "display_data"
    }
   ],
   "source": [
    "for t in parser.parse(\"das Kind des Mannes schläft\".split()):\n",
    "    t = Tree.fromstring(str(t).replace(\", \",\",\"))\n",
    "#    t.pretty_print(unicodelines=True)\n",
    "    display(t)"
   ]
  },
  {
   "cell_type": "markdown",
   "metadata": {},
   "source": [
    "#### Folgendes sollte leer sein:"
   ]
  },
  {
   "cell_type": "code",
   "execution_count": 23,
   "metadata": {},
   "outputs": [
    {
     "data": {
      "text/plain": [
       "[]"
      ]
     },
     "execution_count": 23,
     "metadata": {},
     "output_type": "execute_result"
    }
   ],
   "source": [
    "list(parser.parse(\"des Mannes schläft\".split()))"
   ]
  },
  {
   "cell_type": "markdown",
   "metadata": {},
   "source": [
    "---\n",
    "# Hausaufgaben"
   ]
  },
  {
   "cell_type": "markdown",
   "metadata": {},
   "source": [
    "---\n",
    "## Aufgabe 3: Unifikation II\n",
    "\n",
    "#### Es seien wieder die Merkmalstrukturen aus Aufgabe 1 gegeben.\n"
   ]
  },
  {
   "cell_type": "markdown",
   "metadata": {},
   "source": [
    "### 3a) Unifizieren f1 und f4? Gegeben Sie ggf. das Ergebnis an.\n",
    "\n",
    "nein"
   ]
  },
  {
   "cell_type": "code",
   "execution_count": 24,
   "metadata": {
    "scrolled": true
   },
   "outputs": [
    {
     "name": "stdout",
     "output_type": "stream",
     "text": [
      "[ Nachname = 'Mustermann'                         ]\n",
      "[                                                 ]\n",
      "[            [ Ort     = [ Stadt = 'Muenchen' ] ] ]\n",
      "[ Privat   = [                                  ] ]\n",
      "[            [ Strasse = 'Hauptstrasse'         ] ]\n",
      "[                                                 ]\n",
      "[ Vorname  = 'Max'                                ]\n"
     ]
    }
   ],
   "source": [
    "print(f1)"
   ]
  },
  {
   "cell_type": "code",
   "execution_count": 25,
   "metadata": {},
   "outputs": [
    {
     "name": "stdout",
     "output_type": "stream",
     "text": [
      "[          [ Ort     = [ Stadt = 'Passau' ] ] ]\n",
      "[ Privat = [                                ] ]\n",
      "[          [ Strasse = 'Hauptstrasse'       ] ]\n"
     ]
    }
   ],
   "source": [
    "print(f4)"
   ]
  },
  {
   "cell_type": "code",
   "execution_count": 26,
   "metadata": {},
   "outputs": [
    {
     "name": "stdout",
     "output_type": "stream",
     "text": [
      "None\n"
     ]
    }
   ],
   "source": [
    "#### Mit der Ausführung des print-Statements können Sie abschließend die Lösung einsehen:\n",
    "print(f1.unify(f4))"
   ]
  },
  {
   "cell_type": "markdown",
   "metadata": {},
   "source": [
    "### 3b) Unifizieren f2 und f3? Gegeben Sie ggf. das Ergebnis an.\n",
    "\n",
    "nein"
   ]
  },
  {
   "cell_type": "code",
   "execution_count": 27,
   "metadata": {},
   "outputs": [
    {
     "name": "stdout",
     "output_type": "stream",
     "text": [
      "[          [ Ort     = (1) [ Stadt = 'Muenchen' ] ] ]\n",
      "[ Arbeit = [                                      ] ]\n",
      "[          [ Strasse = 'Oettingenstrasse'         ] ]\n",
      "[                                                   ]\n",
      "[ Privat = [ Ort -> (1) ]                           ]\n"
     ]
    }
   ],
   "source": [
    "print(f2)"
   ]
  },
  {
   "cell_type": "code",
   "execution_count": 28,
   "metadata": {},
   "outputs": [
    {
     "name": "stdout",
     "output_type": "stream",
     "text": [
      "[ Strasse = 'Hauptstrasse' ]\n"
     ]
    }
   ],
   "source": [
    "print(f3)"
   ]
  },
  {
   "cell_type": "code",
   "execution_count": 29,
   "metadata": {
    "scrolled": true
   },
   "outputs": [
    {
     "name": "stdout",
     "output_type": "stream",
     "text": [
      "[           [ Ort     = (1) [ Stadt = 'Muenchen' ] ] ]\n",
      "[ Arbeit  = [                                      ] ]\n",
      "[           [ Strasse = 'Oettingenstrasse'         ] ]\n",
      "[                                                    ]\n",
      "[ Privat  = [ Ort -> (1) ]                           ]\n",
      "[                                                    ]\n",
      "[ Strasse = 'Hauptstrasse'                           ]\n"
     ]
    }
   ],
   "source": [
    "#### Mit der Ausführung des print-Statements können Sie abschließend die Lösung einsehen:\n",
    "print(f2.unify(f3))"
   ]
  },
  {
   "cell_type": "markdown",
   "metadata": {},
   "source": [
    "---\n",
    "## Aufgabe 4: Weniger Redundanz dank besonderer Merkmale\n",
    "\n",
    "#### Beseitigen Sie die Redundanz in den lexikalischen Regeln (Zeilen 8 - 32) der folgenden Grammatik durch eine Typhierarchie (wo dies nötig ist). Achten Sie darauf, die Menge der akzeptierten Sätze weder zu verkleinern noch zu vergrößern!\n",
    "\n",
    "#### Anzugeben sind die neuen Grammatikregeln, sowie Ihre Typhierarchie (z. B. in graphischer Form)."
   ]
  },
  {
   "cell_type": "code",
   "execution_count": 30,
   "metadata": {},
   "outputs": [],
   "source": [
    "# Hierarchie der Fälle\n",
    "case_hierarchy = {\n",
    "    \"nongen\": [\"nomakk\", \"dat\"],\n",
    "    \"gendat\": [\"gen\", \"dat\"],\n",
    "    \"nomakk\": [\"nom\", \"akk\"],\n",
    "    \"nom\": [],\n",
    "    \"gen\": [],\n",
    "    \"dat\": [],\n",
    "    \"akk\": []\n",
    "}\n",
    "\n",
    "# Hierarchie der Geschlechter\n",
    "gen_hierarchy = {\n",
    "    \"maskneut\": [\"mask\", \"neut\"],\n",
    "    \"mask\": [],\n",
    "    \"fem\": [],\n",
    "    \"neut\": []\n",
    "}"
   ]
  },
  {
   "cell_type": "code",
   "execution_count": 31,
   "metadata": {},
   "outputs": [],
   "source": [
    "redundant_grammar = \"\"\"\n",
    "S -> NP[*CASE*=nom] VP\n",
    "\n",
    "NP[*CASE*=?y] -> DET[*GEN*=?x,*CASE*=?y] NOM[*GEN*=?x,*CASE*=?y]\n",
    "NOM[*GEN*=?x,*CASE*=?y] -> N[*GEN*=?x,*CASE*=?y] NP[*CASE*=gen]\n",
    "NOM[*GEN*=?x,*CASE*=?y] -> N[*GEN*=?x,*CASE*=?y]\n",
    "\n",
    "DET[*GEN*=mask,*CASE*=nom] -> \"der\"\n",
    "DET[*GEN*=maskneut,*CASE*=gen] -> \"des\"\n",
    "DET[*GEN*=maskneut,*CASE*=dat] -> \"dem\"\n",
    "DET[*GEN*=mask,*CASE*=akk] -> \"den\"\n",
    "\n",
    "DET[*GEN*=fem,*CASE*=nomakk] -> \"die\"\n",
    "DET[*GEN*=fem,*CASE*=gendat] -> \"der\"\n",
    "\n",
    "DET[*GEN*=neut,*CASE*=nomakk] -> \"das\"\n",
    "\n",
    "N[*GEN*=mask,*CASE*=nongen] -> \"Mann\"\n",
    "N[*GEN*=mask,*CASE*=gen] -> \"Mannes\"\n",
    "N[*GEN*=fem] -> \"Frau\"\n",
    "N[*GEN*=neut,*CASE*=nongen] -> \"Buch\"\n",
    "N[*GEN*=neut,*CASE*=gen] -> \"Buches\"\n",
    "\n",
    "VP -> V NP[*CASE*=dat] NP[*CASE*=akk]\n",
    "V -> \"gibt\" | \"schenkt\"\n",
    "\"\"\""
   ]
  },
  {
   "cell_type": "code",
   "execution_count": 32,
   "metadata": {},
   "outputs": [],
   "source": [
    "CASE = HierarchicalFeature(\"CASE\", case_hierarchy)\n",
    "GEN = HierarchicalFeature(\"GEN\", gen_hierarchy)\n",
    "compiled_grammar = nltk.grammar.FeatureGrammar.fromstring(\n",
    "    redundant_grammar, features=(CASE, GEN, TYPE)\n",
    ")"
   ]
  },
  {
   "cell_type": "code",
   "execution_count": 33,
   "metadata": {},
   "outputs": [],
   "source": [
    "pos_sentences = [\n",
    "    \"der Mann gibt der Frau das Buch\",\n",
    "    \"die Frau des Mannes gibt dem Mann der Frau das Buch des Buches\"\n",
    "]"
   ]
  },
  {
   "cell_type": "markdown",
   "metadata": {},
   "source": [
    "#### Testen Sie mit Ihren eigenen Negativbeispielen!"
   ]
  },
  {
   "cell_type": "code",
   "execution_count": 34,
   "metadata": {},
   "outputs": [],
   "source": [
    "neg_sentences = [\n",
    "    \"des Mannes gibt der Frau das Buch\",\n",
    "    \"Mann gibt der Frau das Buch\",\n",
    "    \"der Mann gibt der Frau Buch\",\n",
    "    \"der Frau gibt dem Buch den Mann\",\n",
    "    \"das Buch der Mann gibt der Frau das Buch\"\n",
    "]"
   ]
  },
  {
   "cell_type": "code",
   "execution_count": 37,
   "metadata": {},
   "outputs": [],
   "source": [
    "def test_grammar(grammar, sentences):\n",
    "    parser = nltk.parse.FeatureEarleyChartParser(grammar)\n",
    "    \n",
    "    for i, sent in enumerate(sentences, 1):\n",
    "        print(\"Satz {}: {}\".format(i, sent))\n",
    "        results = parser.parse(sent.split())\n",
    "        analyzed = False\n",
    "        for tree in results:\n",
    "            tree = Tree.fromstring(str(t).replace(\", \",\",\"))\n",
    "            display(tree)  # print(tree)\n",
    "            analyzed = True\n",
    "        if not analyzed:\n",
    "            print(\"Keine Analyse möglich\")"
   ]
  },
  {
   "cell_type": "code",
   "execution_count": 38,
   "metadata": {
    "scrolled": false
   },
   "outputs": [
    {
     "name": "stdout",
     "output_type": "stream",
     "text": [
      "Satz 1: der Mann gibt der Frau das Buch\n"
     ]
    },
    {
     "data": {
      "image/svg+xml": [
       "<svg baseProfile=\"full\" height=\"312px\" preserveAspectRatio=\"xMidYMid meet\" style=\"font-family: times, serif; font-weight:normal; font-style: normal; font-size: 16px;\" version=\"1.1\" viewBox=\"0,0,1064.0,312.0\" width=\"1064px\" xmlns=\"http://www.w3.org/2000/svg\" xmlns:ev=\"http://www.w3.org/2001/xml-events\" xmlns:xlink=\"http://www.w3.org/1999/xlink\"><defs /><svg width=\"100%\" x=\"0\" y=\"0em\"><defs /><text text-anchor=\"middle\" x=\"50%\" y=\"1em\">S[]</text></svg><svg width=\"93.2331%\" x=\"0%\" y=\"3em\"><defs /><svg width=\"100%\" x=\"0\" y=\"0em\"><defs /><text text-anchor=\"middle\" x=\"50%\" y=\"1em\">NP[*CASE*='NomAkk']</text></svg><svg width=\"26.6129%\" x=\"0%\" y=\"3em\"><defs /><svg width=\"100%\" x=\"0\" y=\"0em\"><defs /><text text-anchor=\"middle\" x=\"50%\" y=\"1em\">DET[*CASE*='NomAkk',GEN='neut']</text></svg><svg width=\"100%\" x=\"0%\" y=\"3em\"><defs /><svg width=\"100%\" x=\"0\" y=\"0em\"><defs /><text text-anchor=\"middle\" x=\"50%\" y=\"1em\">das</text></svg></svg><line stroke=\"black\" x1=\"50%\" x2=\"50%\" y1=\"1.2em\" y2=\"3em\" /></svg><line stroke=\"black\" x1=\"50%\" x2=\"13.3065%\" y1=\"1.2em\" y2=\"3em\" /><svg width=\"73.3871%\" x=\"26.6129%\" y=\"3em\"><defs /><svg width=\"100%\" x=\"0\" y=\"0em\"><defs /><text text-anchor=\"middle\" x=\"50%\" y=\"1em\">NOM[*CASE*='nonGen',GEN='neut']</text></svg><svg width=\"34.0659%\" x=\"0%\" y=\"3em\"><defs /><svg width=\"100%\" x=\"0\" y=\"0em\"><defs /><text text-anchor=\"middle\" x=\"50%\" y=\"1em\">N[*CASE*='nonGen',GEN='neut']</text></svg><svg width=\"100%\" x=\"0%\" y=\"3em\"><defs /><svg width=\"100%\" x=\"0\" y=\"0em\"><defs /><text text-anchor=\"middle\" x=\"50%\" y=\"1em\">Kind</text></svg></svg><line stroke=\"black\" x1=\"50%\" x2=\"50%\" y1=\"1.2em\" y2=\"3em\" /></svg><line stroke=\"black\" x1=\"50%\" x2=\"17.033%\" y1=\"1.2em\" y2=\"3em\" /><svg width=\"65.9341%\" x=\"34.0659%\" y=\"3em\"><defs /><svg width=\"100%\" x=\"0\" y=\"0em\"><defs /><text text-anchor=\"middle\" x=\"50%\" y=\"1em\">NP[*CASE*='Gen']</text></svg><svg width=\"50%\" x=\"0%\" y=\"3em\"><defs /><svg width=\"100%\" x=\"0\" y=\"0em\"><defs /><text text-anchor=\"middle\" x=\"50%\" y=\"1em\">DET[*CASE*='Gen',GEN='mask']</text></svg><svg width=\"100%\" x=\"0%\" y=\"3em\"><defs /><svg width=\"100%\" x=\"0\" y=\"0em\"><defs /><text text-anchor=\"middle\" x=\"50%\" y=\"1em\">des</text></svg></svg><line stroke=\"black\" x1=\"50%\" x2=\"50%\" y1=\"1.2em\" y2=\"3em\" /></svg><line stroke=\"black\" x1=\"50%\" x2=\"25%\" y1=\"1.2em\" y2=\"3em\" /><svg width=\"50%\" x=\"50%\" y=\"3em\"><defs /><svg width=\"100%\" x=\"0\" y=\"0em\"><defs /><text text-anchor=\"middle\" x=\"50%\" y=\"1em\">NOM[*CASE*='Gen',GEN='mask']</text></svg><svg width=\"100%\" x=\"0%\" y=\"3em\"><defs /><svg width=\"100%\" x=\"0\" y=\"0em\"><defs /><text text-anchor=\"middle\" x=\"50%\" y=\"1em\">N[*CASE*='Gen',GEN='mask']</text></svg><svg width=\"100%\" x=\"0%\" y=\"3em\"><defs /><svg width=\"100%\" x=\"0\" y=\"0em\"><defs /><text text-anchor=\"middle\" x=\"50%\" y=\"1em\">Mannes</text></svg></svg><line stroke=\"black\" x1=\"50%\" x2=\"50%\" y1=\"1.2em\" y2=\"3em\" /></svg><line stroke=\"black\" x1=\"50%\" x2=\"50%\" y1=\"1.2em\" y2=\"3em\" /></svg><line stroke=\"black\" x1=\"50%\" x2=\"75%\" y1=\"1.2em\" y2=\"3em\" /></svg><line stroke=\"black\" x1=\"50%\" x2=\"67.033%\" y1=\"1.2em\" y2=\"3em\" /></svg><line stroke=\"black\" x1=\"50%\" x2=\"63.3065%\" y1=\"1.2em\" y2=\"3em\" /></svg><line stroke=\"black\" x1=\"50%\" x2=\"46.6165%\" y1=\"1.2em\" y2=\"3em\" /><svg width=\"6.76692%\" x=\"93.2331%\" y=\"3em\"><defs /><svg width=\"100%\" x=\"0\" y=\"0em\"><defs /><text text-anchor=\"middle\" x=\"50%\" y=\"1em\">VP[]</text></svg><svg width=\"100%\" x=\"0%\" y=\"3em\"><defs /><svg width=\"100%\" x=\"0\" y=\"0em\"><defs /><text text-anchor=\"middle\" x=\"50%\" y=\"1em\">V[]</text></svg><svg width=\"100%\" x=\"0%\" y=\"3em\"><defs /><svg width=\"100%\" x=\"0\" y=\"0em\"><defs /><text text-anchor=\"middle\" x=\"50%\" y=\"1em\">schläft</text></svg></svg><line stroke=\"black\" x1=\"50%\" x2=\"50%\" y1=\"1.2em\" y2=\"3em\" /></svg><line stroke=\"black\" x1=\"50%\" x2=\"50%\" y1=\"1.2em\" y2=\"3em\" /></svg><line stroke=\"black\" x1=\"50%\" x2=\"96.6165%\" y1=\"1.2em\" y2=\"3em\" /></svg>"
      ],
      "text/plain": [
       "Tree('S[]', [Tree(\"NP[*CASE*='NomAkk']\", [Tree(\"DET[*CASE*='NomAkk',GEN='neut']\", ['das']), Tree(\"NOM[*CASE*='nonGen',GEN='neut']\", [Tree(\"N[*CASE*='nonGen',GEN='neut']\", ['Kind']), Tree(\"NP[*CASE*='Gen']\", [Tree(\"DET[*CASE*='Gen',GEN='mask']\", ['des']), Tree(\"NOM[*CASE*='Gen',GEN='mask']\", [Tree(\"N[*CASE*='Gen',GEN='mask']\", ['Mannes'])])])])]), Tree('VP[]', [Tree('V[]', ['schläft'])])])"
      ]
     },
     "metadata": {},
     "output_type": "display_data"
    },
    {
     "name": "stdout",
     "output_type": "stream",
     "text": [
      "Satz 2: die Frau des Mannes gibt dem Mann der Frau das Buch des Buches\n"
     ]
    },
    {
     "data": {
      "image/svg+xml": [
       "<svg baseProfile=\"full\" height=\"312px\" preserveAspectRatio=\"xMidYMid meet\" style=\"font-family: times, serif; font-weight:normal; font-style: normal; font-size: 16px;\" version=\"1.1\" viewBox=\"0,0,1064.0,312.0\" width=\"1064px\" xmlns=\"http://www.w3.org/2000/svg\" xmlns:ev=\"http://www.w3.org/2001/xml-events\" xmlns:xlink=\"http://www.w3.org/1999/xlink\"><defs /><svg width=\"100%\" x=\"0\" y=\"0em\"><defs /><text text-anchor=\"middle\" x=\"50%\" y=\"1em\">S[]</text></svg><svg width=\"93.2331%\" x=\"0%\" y=\"3em\"><defs /><svg width=\"100%\" x=\"0\" y=\"0em\"><defs /><text text-anchor=\"middle\" x=\"50%\" y=\"1em\">NP[*CASE*='NomAkk']</text></svg><svg width=\"26.6129%\" x=\"0%\" y=\"3em\"><defs /><svg width=\"100%\" x=\"0\" y=\"0em\"><defs /><text text-anchor=\"middle\" x=\"50%\" y=\"1em\">DET[*CASE*='NomAkk',GEN='neut']</text></svg><svg width=\"100%\" x=\"0%\" y=\"3em\"><defs /><svg width=\"100%\" x=\"0\" y=\"0em\"><defs /><text text-anchor=\"middle\" x=\"50%\" y=\"1em\">das</text></svg></svg><line stroke=\"black\" x1=\"50%\" x2=\"50%\" y1=\"1.2em\" y2=\"3em\" /></svg><line stroke=\"black\" x1=\"50%\" x2=\"13.3065%\" y1=\"1.2em\" y2=\"3em\" /><svg width=\"73.3871%\" x=\"26.6129%\" y=\"3em\"><defs /><svg width=\"100%\" x=\"0\" y=\"0em\"><defs /><text text-anchor=\"middle\" x=\"50%\" y=\"1em\">NOM[*CASE*='nonGen',GEN='neut']</text></svg><svg width=\"34.0659%\" x=\"0%\" y=\"3em\"><defs /><svg width=\"100%\" x=\"0\" y=\"0em\"><defs /><text text-anchor=\"middle\" x=\"50%\" y=\"1em\">N[*CASE*='nonGen',GEN='neut']</text></svg><svg width=\"100%\" x=\"0%\" y=\"3em\"><defs /><svg width=\"100%\" x=\"0\" y=\"0em\"><defs /><text text-anchor=\"middle\" x=\"50%\" y=\"1em\">Kind</text></svg></svg><line stroke=\"black\" x1=\"50%\" x2=\"50%\" y1=\"1.2em\" y2=\"3em\" /></svg><line stroke=\"black\" x1=\"50%\" x2=\"17.033%\" y1=\"1.2em\" y2=\"3em\" /><svg width=\"65.9341%\" x=\"34.0659%\" y=\"3em\"><defs /><svg width=\"100%\" x=\"0\" y=\"0em\"><defs /><text text-anchor=\"middle\" x=\"50%\" y=\"1em\">NP[*CASE*='Gen']</text></svg><svg width=\"50%\" x=\"0%\" y=\"3em\"><defs /><svg width=\"100%\" x=\"0\" y=\"0em\"><defs /><text text-anchor=\"middle\" x=\"50%\" y=\"1em\">DET[*CASE*='Gen',GEN='mask']</text></svg><svg width=\"100%\" x=\"0%\" y=\"3em\"><defs /><svg width=\"100%\" x=\"0\" y=\"0em\"><defs /><text text-anchor=\"middle\" x=\"50%\" y=\"1em\">des</text></svg></svg><line stroke=\"black\" x1=\"50%\" x2=\"50%\" y1=\"1.2em\" y2=\"3em\" /></svg><line stroke=\"black\" x1=\"50%\" x2=\"25%\" y1=\"1.2em\" y2=\"3em\" /><svg width=\"50%\" x=\"50%\" y=\"3em\"><defs /><svg width=\"100%\" x=\"0\" y=\"0em\"><defs /><text text-anchor=\"middle\" x=\"50%\" y=\"1em\">NOM[*CASE*='Gen',GEN='mask']</text></svg><svg width=\"100%\" x=\"0%\" y=\"3em\"><defs /><svg width=\"100%\" x=\"0\" y=\"0em\"><defs /><text text-anchor=\"middle\" x=\"50%\" y=\"1em\">N[*CASE*='Gen',GEN='mask']</text></svg><svg width=\"100%\" x=\"0%\" y=\"3em\"><defs /><svg width=\"100%\" x=\"0\" y=\"0em\"><defs /><text text-anchor=\"middle\" x=\"50%\" y=\"1em\">Mannes</text></svg></svg><line stroke=\"black\" x1=\"50%\" x2=\"50%\" y1=\"1.2em\" y2=\"3em\" /></svg><line stroke=\"black\" x1=\"50%\" x2=\"50%\" y1=\"1.2em\" y2=\"3em\" /></svg><line stroke=\"black\" x1=\"50%\" x2=\"75%\" y1=\"1.2em\" y2=\"3em\" /></svg><line stroke=\"black\" x1=\"50%\" x2=\"67.033%\" y1=\"1.2em\" y2=\"3em\" /></svg><line stroke=\"black\" x1=\"50%\" x2=\"63.3065%\" y1=\"1.2em\" y2=\"3em\" /></svg><line stroke=\"black\" x1=\"50%\" x2=\"46.6165%\" y1=\"1.2em\" y2=\"3em\" /><svg width=\"6.76692%\" x=\"93.2331%\" y=\"3em\"><defs /><svg width=\"100%\" x=\"0\" y=\"0em\"><defs /><text text-anchor=\"middle\" x=\"50%\" y=\"1em\">VP[]</text></svg><svg width=\"100%\" x=\"0%\" y=\"3em\"><defs /><svg width=\"100%\" x=\"0\" y=\"0em\"><defs /><text text-anchor=\"middle\" x=\"50%\" y=\"1em\">V[]</text></svg><svg width=\"100%\" x=\"0%\" y=\"3em\"><defs /><svg width=\"100%\" x=\"0\" y=\"0em\"><defs /><text text-anchor=\"middle\" x=\"50%\" y=\"1em\">schläft</text></svg></svg><line stroke=\"black\" x1=\"50%\" x2=\"50%\" y1=\"1.2em\" y2=\"3em\" /></svg><line stroke=\"black\" x1=\"50%\" x2=\"50%\" y1=\"1.2em\" y2=\"3em\" /></svg><line stroke=\"black\" x1=\"50%\" x2=\"96.6165%\" y1=\"1.2em\" y2=\"3em\" /></svg>"
      ],
      "text/plain": [
       "Tree('S[]', [Tree(\"NP[*CASE*='NomAkk']\", [Tree(\"DET[*CASE*='NomAkk',GEN='neut']\", ['das']), Tree(\"NOM[*CASE*='nonGen',GEN='neut']\", [Tree(\"N[*CASE*='nonGen',GEN='neut']\", ['Kind']), Tree(\"NP[*CASE*='Gen']\", [Tree(\"DET[*CASE*='Gen',GEN='mask']\", ['des']), Tree(\"NOM[*CASE*='Gen',GEN='mask']\", [Tree(\"N[*CASE*='Gen',GEN='mask']\", ['Mannes'])])])])]), Tree('VP[]', [Tree('V[]', ['schläft'])])])"
      ]
     },
     "metadata": {},
     "output_type": "display_data"
    }
   ],
   "source": [
    "test_grammar(compiled_grammar, pos_sentences)"
   ]
  },
  {
   "cell_type": "code",
   "execution_count": 39,
   "metadata": {},
   "outputs": [
    {
     "name": "stdout",
     "output_type": "stream",
     "text": [
      "Satz 1: des Mannes gibt der Frau das Buch\n",
      "Keine Analyse möglich\n",
      "Satz 2: Mann gibt der Frau das Buch\n",
      "Keine Analyse möglich\n",
      "Satz 3: der Mann gibt der Frau Buch\n",
      "Keine Analyse möglich\n",
      "Satz 4: der Frau gibt dem Buch den Mann\n",
      "Keine Analyse möglich\n",
      "Satz 5: das Buch der Mann gibt der Frau das Buch\n",
      "Keine Analyse möglich\n"
     ]
    }
   ],
   "source": [
    "test_grammar(compiled_grammar, neg_sentences)"
   ]
  }
 ],
 "metadata": {
  "kernelspec": {
   "display_name": "Python 3 (ipykernel)",
   "language": "python",
   "name": "python3"
  },
  "language_info": {
   "codemirror_mode": {
    "name": "ipython",
    "version": 3
   },
   "file_extension": ".py",
   "mimetype": "text/x-python",
   "name": "python",
   "nbconvert_exporter": "python",
   "pygments_lexer": "ipython3",
   "version": "3.9.12"
  }
 },
 "nbformat": 4,
 "nbformat_minor": 2
}
