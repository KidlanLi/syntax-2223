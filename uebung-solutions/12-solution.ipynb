{
 "cells": [
  {
   "cell_type": "markdown",
   "metadata": {},
   "source": [
    "***Syntax natürlicher Sprachen, WS 2022/23***\n",
    "\n",
    "---\n",
    "# Übung 12 (Lösung)"
   ]
  },
  {
   "cell_type": "code",
   "execution_count": 1,
   "metadata": {},
   "outputs": [],
   "source": [
    "import nltk\n",
    "from nltk.corpus import treebank\n",
    "from nltk.grammar import ProbabilisticProduction, PCFG\n",
    "from collections import defaultdict"
   ]
  },
  {
   "cell_type": "markdown",
   "metadata": {},
   "source": [
    "---\n",
    "###  Herunterladen von Ressourcen\n",
    "\n",
    "#### Laden Sie zunächst die Ressource „corpora/treebank“ mithilfe des NLTK-Download-Managers herunter, falls dieser noch nicht installiert ist."
   ]
  },
  {
   "cell_type": "code",
   "execution_count": 2,
   "metadata": {},
   "outputs": [],
   "source": [
    "# nltk.download()"
   ]
  },
  {
   "cell_type": "markdown",
   "metadata": {},
   "source": [
    "---\n",
    "## Aufgabe 1: Grammatikinduktion\n",
    "\n",
    "#### In dieser Aufgabe soll vollautomatisch aus Daten (Syntaxbäumen) eine probabilistische, kontextfreie Grammatik erzeugt werden."
   ]
  },
  {
   "cell_type": "markdown",
   "metadata": {},
   "source": [
    "\n",
    "### Aufgabe 1.1: Von Daten zu Regelwahrscheinlichkeiten\n",
    "\n",
    "#### Veranschaulichen Sie sich das Vorgehen zunächst an einem Beispiel. Gegeben sei folgende Grammatik:"
   ]
  },
  {
   "cell_type": "code",
   "execution_count": 3,
   "metadata": {},
   "outputs": [],
   "source": [
    "cfg = \"\"\"\n",
    "S -> NP VP\n",
    "VP -> V NP PP\n",
    "VP -> V NP\n",
    "NP -> DET N\n",
    "NP -> NP PP\n",
    "PP -> P NP\n",
    "\n",
    "DET -> \"the\" | \"a\"\n",
    "N -> \"boy\" | \"woman\" | \"telescope\"\n",
    "V -> \"saw\"\n",
    "P -> \"with\"\n",
    "\"\"\""
   ]
  },
  {
   "cell_type": "markdown",
   "metadata": {},
   "source": [
    "Sie modelliert sehr einfache Sätze der Form SBJ saw OBJ mit optionaler Präpositionalphrase am Ende. Diese Präpositionalphrase kann entweder der näheren Bestimmung des Objekts oder der näheren Bestimmung der in der Verbalphrase ausgedrückten Handlung dienen.\n",
    "\n",
    "**Für welche Regeln müssen wir die Wahrscheinlichkeiten berechnen, wenn wir mit statistischen Methoden untersuchen wollen, ob PPs häufiger Teil der VP oder Teil der NP sind?**\n",
    "\n",
    "Approximieren Sie mittels vergleichbarer Konstruktionen in der Penn Treebank die Wahrscheinlichkeiten für die ersten beiden dieser Regeln."
   ]
  },
  {
   "cell_type": "code",
   "execution_count": 4,
   "metadata": {},
   "outputs": [
    {
     "data": {
      "text/plain": [
       "[(VP -> TO VP, 1257),\n",
       " (VP -> VB NP, 805),\n",
       " (VP -> MD VP, 759),\n",
       " (VP -> VBD SBAR, 631),\n",
       " (VP -> VBZ VP, 459),\n",
       " (VP -> VBD NP, 378),\n",
       " (VP -> VBG NP, 375),\n",
       " (VP -> VBD VP, 361),\n",
       " (VP -> VBP VP, 337),\n",
       " (VP -> VBZ NP, 261),\n",
       " (VP -> VB VP, 258),\n",
       " (VP -> VBN NP, 250),\n",
       " (VP -> VP CC VP, 234),\n",
       " (VP -> VBD S, 223),\n",
       " (VP -> VBZ S, 215),\n",
       " (VP -> VBZ SBAR, 197),\n",
       " (VP -> VBP NP, 185),\n",
       " (VP -> VBN NP PP-CLR, 178),\n",
       " (VP -> VBN NP PP, 170),\n",
       " (VP -> VBZ NP-PRD, 163),\n",
       " (VP -> VB S, 155),\n",
       " (VP -> VBN S, 141),\n",
       " (VP -> VBP SBAR, 121),\n",
       " (VP -> VB PP-CLR, 107),\n",
       " (VP -> VBG S, 89),\n",
       " (VP -> VBP S, 88),\n",
       " (VP -> VB NP PP-CLR, 88),\n",
       " (VP -> VBZ ADJP-PRD, 87),\n",
       " (VP -> VBN VP, 84),\n",
       " (VP -> MD RB VP, 82)]"
      ]
     },
     "execution_count": 4,
     "metadata": {},
     "output_type": "execute_result"
    }
   ],
   "source": [
    "counter = defaultdict(int)\n",
    "\n",
    "for tree in treebank.parsed_sents():\n",
    "    for prod in tree.productions():\n",
    "        if prod.lhs() == nltk.grammar.Nonterminal('VP'):\n",
    "            counter[prod] += 1\n",
    "            \n",
    "constructions = [ (k, counter[k]) for k in sorted(counter.keys(), key=counter.__getitem__, reverse=True) ]\n",
    "constructions[:30]"
   ]
  },
  {
   "cell_type": "code",
   "execution_count": 5,
   "metadata": {},
   "outputs": [
    {
     "data": {
      "text/plain": [
       "(0.1620817843866171, 0.8379182156133829)"
      ]
     },
     "execution_count": 5,
     "metadata": {},
     "output_type": "execute_result"
    }
   ],
   "source": [
    "vp_with_pp = 178 + 170 + 88\n",
    "vp_without_pp = 805 + 378 + 375 + 261 + 250 + 185\n",
    "\n",
    "prob1 = vp_with_pp / (vp_with_pp + vp_without_pp)\n",
    "prob2 = vp_without_pp / (vp_with_pp + vp_without_pp)\n",
    "\n",
    "prob1, prob2"
   ]
  },
  {
   "cell_type": "markdown",
   "metadata": {},
   "source": [
    "---\n",
    "### Aufgabe 1.2: Induktion von PCFG-Regeln aus der Penn-Treebank"
   ]
  },
  {
   "cell_type": "markdown",
   "metadata": {},
   "source": [
    "#### Im Folgenden wollen wir vollautomatisch eine aus den Syntaxbäumen der Penn Treebank induzierte Grammatik erzeugen.\n",
    "\n",
    "#### Füllen Sie die Lücken und versuchen Sie mithilfe Ihrer automatisch erstellten Grammatik die folgenden Sätze zu parsen:"
   ]
  },
  {
   "cell_type": "code",
   "execution_count": 6,
   "metadata": {},
   "outputs": [],
   "source": [
    "test_sentences = [\n",
    "    \"the men saw a car .\",\n",
    "    \"the woman gave the man a book .\",\n",
    "    \"she gave a book to the man .\",\n",
    "    \"yesterday , all my trouble seemed so far away .\"\n",
    "]"
   ]
  },
  {
   "cell_type": "code",
   "execution_count": 7,
   "metadata": {},
   "outputs": [],
   "source": [
    "# Production count: the number of times a given production occurs\n",
    "pcount = defaultdict(int)\n",
    "\n",
    "# LHS-count: counts the number of times a given lhs occurs\n",
    "lcount = defaultdict(int)\n",
    "\n",
    "for tree in treebank.parsed_sents():\n",
    "    for prod in tree.productions():\n",
    "        pcount[prod] += 1\n",
    "        lcount[prod.lhs()] += 1\n",
    "        \n",
    "productions = [\n",
    "    ProbabilisticProduction(\n",
    "        p.lhs(), p.rhs(),\n",
    "        prob=pcount[p] / lcount[p.lhs()]\n",
    "    )\n",
    "    for p in pcount\n",
    "]\n",
    "\n",
    "start = nltk.Nonterminal('S')\n",
    "grammar = PCFG(start, productions)\n",
    "parser = nltk.ViterbiParser(grammar)"
   ]
  },
  {
   "cell_type": "code",
   "execution_count": 8,
   "metadata": {},
   "outputs": [
    {
     "name": "stdout",
     "output_type": "stream",
     "text": [
      "2.269940263066198e-15\n",
      "                S                 \n",
      "      ┌─────────┴───┬───────────┐  \n",
      "      │             VP          │ \n",
      "      │         ┌───┴───┐       │  \n",
      "    NP-SBJ      │       NP      │ \n",
      " ┌────┴─────┐   │   ┌───┴───┐   │  \n",
      " DT        NNS VBD  DT      NN  . \n",
      " │          │   │   │       │   │  \n",
      "the        men saw  a      car  . \n",
      "\n",
      "8.44395440336237e-21\n",
      "                       S                             \n",
      "      ┌────────────────┴───────┬───────────────────┐  \n",
      "      │                        VP                  │ \n",
      "      │           ┌────────┬───┴────────┐          │  \n",
      "    NP-SBJ        │        NP         NP-TMP       │ \n",
      " ┌────┴──────┐    │    ┌───┴───┐   ┌────┴─────┐    │  \n",
      " DT          NN  VBD   DT      NN  DT         NN   . \n",
      " │           │    │    │       │   │          │    │  \n",
      "the        woman gave the     man  a         book  . \n",
      "\n",
      "1.3157826588159793e-18\n",
      "                     S                         \n",
      "  ┌──────────────────┼───────────────────────┐  \n",
      "  │                  VP                      │ \n",
      "  │     ┌────────┬───┴─────────┐             │  \n",
      "  │     │        │           PP-CLR          │ \n",
      "  │     │        │        ┌────┴─────┐       │  \n",
      "NP-SBJ  │        NP       │          NP      │ \n",
      "  │     │    ┌───┴───┐    │    ┌─────┴───┐   │  \n",
      " PRP   VBD   DT      NN   TO   DT        NN  . \n",
      "  │     │    │       │    │    │         │   │  \n",
      " she   gave  a      book  to  the       man  . \n",
      "\n",
      "1.7860754913154666e-34\n",
      "                                 S                                    \n",
      "                ┌────────────────┴────────────┬─────────────────────┐  \n",
      "              NP-SBJ                          │                     │ \n",
      "    ┌──────┬────┴─────┐                       │                     │  \n",
      "    │      │          NP                      VP                    │ \n",
      "    │      │    ┌─────┴────┐            ┌─────┴─────┬──────────┐    │  \n",
      "    NP     │    │          NP           │        ADVP-MNR     ADVP  │ \n",
      "    │      │    │     ┌────┴─────┐      │     ┌─────┴──────┐   │    │  \n",
      "    NN     ,    DT   PRP$        NN    VBD    RB           RB  RB   . \n",
      "    │      │    │     │          │      │     │            │   │    │  \n",
      "yesterday  ,   all    my      trouble seemed  so          far away  . \n",
      "\n"
     ]
    }
   ],
   "source": [
    "for s in test_sentences:\n",
    "    for t in parser.parse(nltk.word_tokenize(s)):\n",
    "        print(t.prob())\n",
    "        t.pretty_print(unicodelines=True)"
   ]
  },
  {
   "cell_type": "markdown",
   "metadata": {},
   "source": [
    "---\n",
    "## Aufgabe 2: Parent Annotation\n",
    "\n",
    "#### *Parent Annotation* kann die Performanz einer CFG wesentlich verbessern. Schreiben Sie eine Funktion, die einen gegebenen Syntaxbaum dieser Optimierung unterzieht. Auf diese Art und Weise transformierte Bäume können dann wiederum zur Grammatikinduktion verwendet werden.\n",
    "\n",
    "#### `parentHistory` soll dabei die Anzahl der Vorgänger sein, die zusätzlich zum direkten Elternknoten berücksichtigt werden. (Die Berücksichtigung dieses Parameters ist optional.)\n",
    "\n",
    "#### `parentChar` soll ein Trennzeichen sein, das bei den neuen Knotenlabels zwischen dem ursprünglichen Knotenlabel und der Liste von Vorgängern eingefügt wird."
   ]
  },
  {
   "cell_type": "code",
   "execution_count": 9,
   "metadata": {},
   "outputs": [],
   "source": [
    "def parent_annotation(tree, parentHistory=0, parentChar=\"^\"):\n",
    "    def pa_rec(node, parents):\n",
    "        originalNode = node.label() \n",
    "        parentString = (\n",
    "            parentChar + '<' + '-'.join(parents) + '>'  \n",
    "        )\n",
    "        node.set_label(node.label() + parentString) \n",
    "        for child in node: \n",
    "            pa_rec(\n",
    "                child,\n",
    "                [originalNode] + parents[:parentHistory] \n",
    "            )\n",
    "        return node\n",
    "    return pa_rec(tree, []) "
   ]
  },
  {
   "cell_type": "markdown",
   "metadata": {},
   "source": [
    "#### Zur Überprüfung Ihrer Implementierung können Sie sie mit folgendem Beispielbaum testen:"
   ]
  },
  {
   "cell_type": "code",
   "execution_count": 10,
   "metadata": {},
   "outputs": [
    {
     "name": "stdout",
     "output_type": "stream",
     "text": [
      "                        S^<>                         \n",
      "           ┌─────────────┴───────┐                    \n",
      "           │                   VP^<S>                \n",
      "           │             ┌───────┴────────┐           \n",
      "         NP^<S>          │             NP^<VP>       \n",
      "   ┌───────┴──────┐      │       ┌────────┴──────┐    \n",
      "DET^<NP>        N^<NP> V^<VP> DET^<NP>         N^<NP>\n",
      "   │              │      │       │               │    \n",
      "  ...            ...    ...     ...             ...  \n",
      "\n"
     ]
    }
   ],
   "source": [
    "test_tree = nltk.Tree(\n",
    "    \"S\",\n",
    "    [\n",
    "        nltk.Tree(\"NP\", [\n",
    "            nltk.Tree(\"DET\", []),\n",
    "            nltk.Tree(\"N\", [])\n",
    "        ]),\n",
    "        nltk.Tree(\"VP\", [\n",
    "            nltk.Tree(\"V\", []),\n",
    "            nltk.Tree(\"NP\", [\n",
    "                nltk.Tree(\"DET\", []),\n",
    "                nltk.Tree(\"N\", [])\n",
    "            ])\n",
    "        ])\n",
    "    ]\n",
    ")\n",
    "\n",
    "parent_annotation(test_tree).pretty_print(unicodelines=True)"
   ]
  }
 ],
 "metadata": {
  "kernelspec": {
   "display_name": "Python 3 (ipykernel)",
   "language": "python",
   "name": "python3"
  },
  "language_info": {
   "codemirror_mode": {
    "name": "ipython",
    "version": 3
   },
   "file_extension": ".py",
   "mimetype": "text/x-python",
   "name": "python",
   "nbconvert_exporter": "python",
   "pygments_lexer": "ipython3",
   "version": "3.9.12"
  }
 },
 "nbformat": 4,
 "nbformat_minor": 2
}
