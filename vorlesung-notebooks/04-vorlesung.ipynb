{
 "cells": [
  {
   "cell_type": "markdown",
   "metadata": {},
   "source": [
    "***Vorlesung 'Syntax natürlicher Sprachen'***\n",
    "\n",
    "--- \n",
    "# Intro Vorlesung 4: Phrasenstrukturgrammatiken\n"
   ]
  },
  {
   "cell_type": "markdown",
   "metadata": {},
   "source": [
    "## 0. Informationen zur Phrasenstruktur im Deutschen\n",
    "\n",
    "\n",
    "- Übersicht Phrasen: https://grammis.ids-mannheim.de/progr@mm/5213\n",
    "- Nominalphrase: https://grammis.ids-mannheim.de/progr@mm/5302\n",
    "- Verbalphrase: https://grammis.ids-mannheim.de/terminologie/279\n",
    "- Präpositionalphrase: https://grammis.ids-mannheim.de/progr@mm/5286\n",
    "- Adjektivphrase: https://grammis.ids-mannheim.de/progr@mm/1644\n",
    "- Adverbphrase: https://grammis.ids-mannheim.de/progr@mm/1653\n"
   ]
  },
  {
   "cell_type": "markdown",
   "metadata": {},
   "source": [
    "## 1. vom Konstituententest zu Phrasenstrukturregeln\n"
   ]
  },
  {
   "cell_type": "markdown",
   "metadata": {},
   "source": [
    "---\n",
    "### 1.1 CFG mit flacher Strukturregel (POS-Muster) für Nominalphrase NP"
   ]
  },
  {
   "cell_type": "code",
   "execution_count": 1,
   "metadata": {},
   "outputs": [],
   "source": [
    "import nltk"
   ]
  },
  {
   "cell_type": "code",
   "execution_count": 2,
   "metadata": {},
   "outputs": [
    {
     "name": "stdout",
     "output_type": "stream",
     "text": [
      "     NP             \n",
      " ┌───┼─────┬─────┐   \n",
      "DET PRT   ADJ    N  \n",
      " │   │     │     │   \n",
      "die sehr große Katze\n",
      "\n"
     ]
    }
   ],
   "source": [
    "grammar = nltk.CFG.fromstring(\"\"\"\n",
    "    NP -> DET PRT ADJ N\n",
    "    \n",
    "    DET -> 'die'\n",
    "    N -> 'Katze'\n",
    "    ADJ -> 'große' | 'schlaue'\n",
    "    PRT -> 'sehr'\n",
    "\"\"\")\n",
    "\n",
    "parser = nltk.ChartParser(grammar,trace=0)\n",
    "\n",
    "sent = 'die sehr große Katze'.split()\n",
    "for tree in parser.parse(sent):\n",
    "    tree.pretty_print(unicodelines=True)"
   ]
  },
  {
   "cell_type": "markdown",
   "metadata": {},
   "source": [
    "---\n",
    "#### + Eliminierung *sehr*"
   ]
  },
  {
   "cell_type": "code",
   "execution_count": 3,
   "metadata": {},
   "outputs": [],
   "source": [
    "#wohlgeformt:\n",
    "sent = 'die große Katze'.split()\n",
    "for tree in parser.parse(sent):\n",
    "    tree.pretty_print(unicodelines=True)\n",
    "    #kein Parse (> Regel hinzufügen, da wohlgeformt)"
   ]
  },
  {
   "cell_type": "code",
   "execution_count": 4,
   "metadata": {},
   "outputs": [
    {
     "name": "stdout",
     "output_type": "stream",
     "text": [
      "      NP       \n",
      " ┌────┼─────┐   \n",
      "DET  ADJ    N  \n",
      " │    │     │   \n",
      "die große Katze\n",
      "\n"
     ]
    }
   ],
   "source": [
    "# neue Grammatikregel:\n",
    "grammar = nltk.CFG.fromstring(\"\"\"\n",
    "    NP -> DET PRT ADJ N\n",
    "    NP -> DET ADJ N\n",
    "\n",
    "    DET -> 'die'\n",
    "    N -> 'Katze'\n",
    "    ADJ -> 'große' | 'schlaue'\n",
    "    PRT -> 'sehr'\n",
    "\"\"\")\n",
    "\n",
    "parser = nltk.ChartParser(grammar,trace=0)\n",
    "\n",
    "sent = 'die große Katze'.split()\n",
    "for tree in parser.parse(sent):\n",
    "    tree.pretty_print(unicodelines=True)"
   ]
  },
  {
   "cell_type": "markdown",
   "metadata": {},
   "source": [
    "---\n",
    "#### - Eliminierung *große*"
   ]
  },
  {
   "cell_type": "code",
   "execution_count": 5,
   "metadata": {},
   "outputs": [],
   "source": [
    "#nicht wohlgeformt:\n",
    "sent = 'die sehr Katze'.split()\n",
    "for tree in parser.parse(sent):\n",
    "    tree.pretty_print(unicodelines=True)\n",
    "    #kein Parse (> keine Regel NP -> DET PRT N hinzu, da nicht wohlgeformt!)"
   ]
  },
  {
   "cell_type": "markdown",
   "metadata": {},
   "source": [
    "---\n",
    "#### + Eliminierung *sehr große*\n",
    "\n"
   ]
  },
  {
   "cell_type": "code",
   "execution_count": 6,
   "metadata": {},
   "outputs": [],
   "source": [
    "#wohlgeformt:\n",
    "sent = 'die Katze'.split()\n",
    "for tree in parser.parse(sent):\n",
    "    tree.pretty_print(unicodelines=True)\n",
    "    #kein Parse (> Regel hinzufügen, da wohlgeformt)"
   ]
  },
  {
   "cell_type": "code",
   "execution_count": 7,
   "metadata": {},
   "outputs": [
    {
     "name": "stdout",
     "output_type": "stream",
     "text": [
      "     NP      \n",
      " ┌───┴────┐   \n",
      "DET       N  \n",
      " │        │   \n",
      "die     Katze\n",
      "\n"
     ]
    }
   ],
   "source": [
    "# neue Regel:\n",
    "grammar = nltk.CFG.fromstring(\"\"\"\n",
    "    NP -> DET PRT ADJ N\n",
    "    NP -> DET ADJ N\n",
    "    NP -> DET N\n",
    "\n",
    "    DET -> 'die'\n",
    "    N -> 'Katze'\n",
    "    ADJ -> 'große' | 'schlaue'\n",
    "    PRT -> 'sehr'\n",
    "\"\"\")\n",
    "\n",
    "parser = nltk.ChartParser(grammar,trace=0)\n",
    "\n",
    "sent = 'die Katze'.split()\n",
    "for tree in parser.parse(sent):\n",
    "    tree.pretty_print(unicodelines=True)"
   ]
  },
  {
   "cell_type": "markdown",
   "metadata": {},
   "source": [
    "---\n",
    "### 1.2 CFG als hierarchische Phrasenstrukturgrammatik (mit ADJP  = Adjektivphrase):"
   ]
  },
  {
   "cell_type": "markdown",
   "metadata": {},
   "source": [
    "#### festgestellte Regeln:\n",
    "```\n",
    "        NP -> DET PRT ADJ N\n",
    "        NP -> DET ADJ N\n",
    "        NP -> DET N\n",
    "```\n",
    "#### nicht möglich:\n",
    "```\n",
    "        *NP -> DET PRT N \n",
    "```\n",
    "#### Beobachtung:\n",
    "\n",
    "- PRT kann nur zusammen mit ADJ auftreten\n",
    "- ADJ kann ohne PRT auftreten und ist dann eliminierbar\n",
    "- PRT und ADJ bilden optionale Einheit in NP, mit dem ADJ als Kopf = **ADJP (Adjektivphrase)**\n"
   ]
  },
  {
   "cell_type": "code",
   "execution_count": 8,
   "metadata": {},
   "outputs": [],
   "source": [
    "grammar = nltk.CFG.fromstring(\"\"\"\n",
    "    NP -> DET ADJP N\n",
    "    \n",
    "    ADJP -> PRT ADJ | ADJ\n",
    "    \n",
    "    NP -> DET N\n",
    "    \n",
    "    DET -> 'die'\n",
    "    N -> 'Katze'\n",
    "    ADJ -> 'große' | 'schlaue'\n",
    "    PRT -> 'sehr'\n",
    "\"\"\")\n",
    "\n",
    "parser = nltk.ChartParser(grammar,trace=0)"
   ]
  },
  {
   "cell_type": "code",
   "execution_count": 9,
   "metadata": {},
   "outputs": [
    {
     "name": "stdout",
     "output_type": "stream",
     "text": [
      "     NP                  \n",
      " ┌───┴────┬───────────┐   \n",
      " │       ADJP         │  \n",
      " │   ┌────┴─────┐     │   \n",
      "DET PRT        ADJ    N  \n",
      " │   │          │     │   \n",
      "die sehr      große Katze\n",
      "\n"
     ]
    }
   ],
   "source": [
    "sent = 'die sehr große Katze'.split()\n",
    "for tree in parser.parse(sent):\n",
    "    tree.pretty_print(unicodelines=True)"
   ]
  },
  {
   "cell_type": "code",
   "execution_count": 10,
   "metadata": {},
   "outputs": [
    {
     "name": "stdout",
     "output_type": "stream",
     "text": [
      "      NP       \n",
      " ┌────┼─────┐   \n",
      " │   ADJP   │  \n",
      " │    │     │   \n",
      "DET  ADJ    N  \n",
      " │    │     │   \n",
      "die große Katze\n",
      "\n"
     ]
    }
   ],
   "source": [
    "sent = 'die große Katze'.split()\n",
    "for tree in parser.parse(sent):\n",
    "    tree.pretty_print(unicodelines=True)"
   ]
  },
  {
   "cell_type": "code",
   "execution_count": 11,
   "metadata": {},
   "outputs": [
    {
     "name": "stdout",
     "output_type": "stream",
     "text": [
      "     NP      \n",
      " ┌───┴────┐   \n",
      "DET       N  \n",
      " │        │   \n",
      "die     Katze\n",
      "\n"
     ]
    }
   ],
   "source": [
    "sent = 'die Katze'.split()\n",
    "for tree in parser.parse(sent):\n",
    "    tree.pretty_print(unicodelines=True)"
   ]
  },
  {
   "cell_type": "code",
   "execution_count": 12,
   "metadata": {},
   "outputs": [],
   "source": [
    "#nicht wohlgeformt:\n",
    "sent = 'die sehr Katze'.split()\n",
    "for tree in parser.parse(sent):\n",
    "    tree.pretty_print(unicodelines=True)\n",
    "    #kein Parse"
   ]
  },
  {
   "cell_type": "markdown",
   "metadata": {},
   "source": [
    "---\n",
    "### 1.3 CFG mit X-Bar-Struktur: ADJP als rekursives Adjunkt\n",
    "\n",
    "- NOM als Zwischenebene (= *sehr große Katze*)"
   ]
  },
  {
   "cell_type": "code",
   "execution_count": 13,
   "metadata": {},
   "outputs": [],
   "source": [
    "# bisher: keine Regel für rekursive ADJP-Adjunktion\n",
    "sent = 'die sehr große sehr schlaue Katze'.split()\n",
    "for tree in parser.parse(sent):\n",
    "    tree.pretty_print(unicodelines=True)\n",
    "    #kein Parse, da keine Regel"
   ]
  },
  {
   "cell_type": "code",
   "execution_count": 14,
   "metadata": {},
   "outputs": [],
   "source": [
    "grammar = nltk.CFG.fromstring(\"\"\"\n",
    "    NP -> DET NOM\n",
    "    \n",
    "    NOM -> ADJP NOM\n",
    "    NOM -> N\n",
    "    \n",
    "    ADJP -> PRT ADJ | ADJ\n",
    "\n",
    "\n",
    "    DET -> 'die'\n",
    "    N -> 'Katze'\n",
    "    ADJ -> 'große' | 'schlaue'\n",
    "    PRT -> 'sehr'\n",
    "\"\"\")\n",
    "\n",
    "parser = nltk.ChartParser(grammar,trace=0)"
   ]
  },
  {
   "cell_type": "markdown",
   "metadata": {},
   "source": [
    "---\n",
    "#### Die rekursive Regel `NOM -> ADJP NOM` erlaubt rekursive Adjunktion von ADJPs:"
   ]
  },
  {
   "cell_type": "code",
   "execution_count": 15,
   "metadata": {},
   "outputs": [
    {
     "name": "stdout",
     "output_type": "stream",
     "text": [
      "                NP                       \n",
      " ┌──────────────┴────┐                    \n",
      " │                  NOM                  \n",
      " │        ┌──────────┴───────────┐        \n",
      " │        │                     NOM      \n",
      " │        │                ┌─────┴────┐   \n",
      " │       ADJP             ADJP       NOM \n",
      " │   ┌────┴─────┐          │          │   \n",
      "DET PRT        ADJ        ADJ         N  \n",
      " │   │          │          │          │   \n",
      "die sehr      große     schlaue     Katze\n",
      "\n"
     ]
    }
   ],
   "source": [
    "sent = 'die sehr große schlaue Katze'.split()\n",
    "for tree in parser.parse(sent):\n",
    "    tree.pretty_print(unicodelines=True)"
   ]
  },
  {
   "cell_type": "code",
   "execution_count": 16,
   "metadata": {},
   "outputs": [
    {
     "name": "stdout",
     "output_type": "stream",
     "text": [
      "          NP             \n",
      " ┌────────┴─────┐         \n",
      " │             NOM       \n",
      " │        ┌─────┴─────┐   \n",
      " │       ADJP        NOM \n",
      " │   ┌────┴─────┐     │   \n",
      "DET PRT        ADJ    N  \n",
      " │   │          │     │   \n",
      "die sehr      große Katze\n",
      "\n"
     ]
    }
   ],
   "source": [
    "sent = 'die sehr große Katze'.split()\n",
    "for tree in parser.parse(sent):\n",
    "    tree.pretty_print(unicodelines=True)"
   ]
  },
  {
   "cell_type": "markdown",
   "metadata": {},
   "source": [
    "---\n",
    "#### gleichzeitig wird durch die Regel `NOM -> ADJP NOM` mit NOM-Zwischenebene die Erkennung (bzw. Übergenerierung) nicht-grammatischer NP-Strukturen verhindert (im Gegensatz zur Regel `NP -> ADJP NP`):"
   ]
  },
  {
   "cell_type": "code",
   "execution_count": 17,
   "metadata": {},
   "outputs": [],
   "source": [
    "#nicht wohlgeformt:\n",
    "sent = 'die sehr große die Katze'.split()\n",
    "for tree in parser.parse(sent):\n",
    "    tree.pretty_print(unicodelines=True)\n",
    "#kein Parse"
   ]
  },
  {
   "cell_type": "markdown",
   "metadata": {},
   "source": [
    "### 1.4 Erweiterung um X-Bar-Komplement (Genitiv-NPs)"
   ]
  },
  {
   "cell_type": "code",
   "execution_count": 18,
   "metadata": {},
   "outputs": [],
   "source": [
    "grammar = nltk.CFG.fromstring(\"\"\"\n",
    "    NP -> DET NOM\n",
    "    \n",
    "    NOM -> ADJP NOM\n",
    "    NOM -> N\n",
    "    \n",
    "    NOM -> N NP\n",
    "    \n",
    "    ADJP -> PRT ADJ | ADJ\n",
    "\n",
    "\n",
    "    DET -> 'die' | 'der' | 'des'\n",
    "    N -> 'Katze' | 'Besitzerin' | 'Hauses'\n",
    "    ADJ -> 'große' | 'schlaue'\n",
    "    PRT -> 'sehr'\n",
    "\"\"\")\n",
    "\n",
    "parser = nltk.ChartParser(grammar,trace=0)"
   ]
  },
  {
   "cell_type": "markdown",
   "metadata": {},
   "source": [
    "---\n",
    "#### Die Regel `NOM -> N NP` erlaubt Hinzufügen von Genitiv-NPs als Komplementen zum Kopf (indirekt rekursiv, da auch `NP -> DET NOM`):"
   ]
  },
  {
   "cell_type": "code",
   "execution_count": 19,
   "metadata": {},
   "outputs": [
    {
     "name": "stdout",
     "output_type": "stream",
     "text": [
      "                NP                                                 \n",
      " ┌──────────────┴─────────────┐                                     \n",
      " │                           NOM                                   \n",
      " │        ┌───────────────────┴────┐                                \n",
      " │        │                       NOM                              \n",
      " │        │            ┌───────────┴──────┐                         \n",
      " │        │            │                 NOM                       \n",
      " │        │            │      ┌───────────┴───────┐                 \n",
      " │        │            │      │                   NP               \n",
      " │        │            │      │    ┌──────────────┴───┐             \n",
      " │        │            │      │    │                 NOM           \n",
      " │        │            │      │    │      ┌───────────┴───┐         \n",
      " │        │            │      │    │      │               NP       \n",
      " │        │            │      │    │      │           ┌───┴────┐    \n",
      " │       ADJP         ADJP    │    │      │           │       NOM  \n",
      " │   ┌────┴─────┐      │      │    │      │           │        │    \n",
      "DET PRT        ADJ    ADJ     N   DET     N          DET       N   \n",
      " │   │          │      │      │    │      │           │        │    \n",
      "die sehr      große schlaue Katze der Besitzerin     des     Hauses\n",
      "\n"
     ]
    }
   ],
   "source": [
    "sent = 'die sehr große schlaue Katze der Besitzerin des Hauses'.split()\n",
    "for tree in parser.parse(sent):\n",
    "    tree.pretty_print(unicodelines=True)"
   ]
  },
  {
   "cell_type": "markdown",
   "metadata": {},
   "source": [
    "\n",
    "---\n",
    "## 2. Umwandlung von CFG mit flachen Regeln in  X-Bar-Struktur\n"
   ]
  },
  {
   "cell_type": "code",
   "execution_count": 20,
   "metadata": {},
   "outputs": [
    {
     "name": "stdout",
     "output_type": "stream",
     "text": [
      "              S                                \n",
      "     ┌────────┴────────┐                        \n",
      "     │                 VP                      \n",
      "     │        ┌────────┴──────┐                 \n",
      "     NP       │               NP               \n",
      " ┌───┴───┐    │    ┌──────────┼──────────┐      \n",
      "DET      N    V   DET        ADJ         N     \n",
      " │       │    │    │          │          │      \n",
      "Der     Hund jagt den     langsamen Briefträger\n",
      "\n"
     ]
    }
   ],
   "source": [
    "grammar = nltk.CFG.fromstring(\"\"\"\n",
    "    S   -> NP VP\n",
    "    \n",
    "    VP  -> V NP\n",
    " \n",
    "    NP  -> DET N\n",
    "    NP  -> DET ADJ N\n",
    "\n",
    "    DET -> \"Der\" | \"den\"\n",
    "    N   -> \"Hund\" | \"Briefträger\"\n",
    "    ADJ -> \"langsamen\"\n",
    "    V   -> \"jagt\"\n",
    "\"\"\")\n",
    "\n",
    "parser = nltk.ChartParser(grammar,trace=0)\n",
    "\n",
    "sent = 'Der Hund jagt den langsamen Briefträger'.split()\n",
    "\n",
    "for tree in parser.parse(sent):\n",
    "    tree.pretty_print(unicodelines=True)    "
   ]
  },
  {
   "cell_type": "markdown",
   "metadata": {},
   "source": [
    "---\n",
    "\n",
    "### 2.1 NP-Adjunkt (ADJ) und NP-Spezifizierer (DET)\n",
    "\n",
    "- **Umwandlung in X-Bar-Struktur, um rekursive Erweiterung um Adjektive zu ermöglichen:**\n",
    "\n",
    "*Der Hund jagt den **langsamen schreienden** Briefträger*\n",
    "\n",
    "- **Gleichzeitig sollen Überproduktionen folgender Art vermieden werden:**\n",
    "\n",
    "\\* *Der Hund jagt den langsamen schreienden **den** Briefträger*\n"
   ]
  },
  {
   "cell_type": "code",
   "execution_count": 21,
   "metadata": {
    "scrolled": false
   },
   "outputs": [
    {
     "name": "stdout",
     "output_type": "stream",
     "text": [
      "                   S                                           \n",
      "     ┌─────────────┴──────┐                                     \n",
      "     │                    VP                                   \n",
      "     │        ┌───────────┴──────┐                              \n",
      "     │        │                  NP                            \n",
      "     │        │    ┌─────────────┴───────┐                      \n",
      "     │        │    │                    NOM                    \n",
      "     │        │    │      ┌──────────────┴───────┐              \n",
      "     NP       │    │      │                     NOM            \n",
      " ┌───┴───┐    │    │      │              ┌───────┴───────┐      \n",
      " │      NOM   │    │      │              │              NOM    \n",
      " │       │    │    │      │              │               │      \n",
      "DET      N    V   DET    ADJ            ADJ              N     \n",
      " │       │    │    │      │              │               │      \n",
      "der     Hund jagt den langsamen     schreienden     Briefträger\n",
      "\n"
     ]
    }
   ],
   "source": [
    "#X-Bar mit NP-Adjunkt (ADJ):\n",
    "grammar = nltk.CFG.fromstring(\"\"\"\n",
    "    S  -> NP VP\n",
    "   \n",
    "    VP -> V NP\n",
    "    \n",
    "#NP-SPEZIFIZIERER:    \n",
    "    NP  -> DET NOM\n",
    "#NP-ADJUNKT:\n",
    "    NOM -> ADJ NOM\n",
    "#NP-KOMPLEMENT-REGEL (ohne Komplement, nur Kopf):\n",
    "    NOM -> N\n",
    " \n",
    "    DET -> \"der\" | \"den\"\n",
    "    N   -> \"Hund\" | \"Briefträger\"\n",
    "    ADJ -> \"langsamen\" | \"schreienden\"\n",
    "    V   -> \"jagt\"\n",
    "\"\"\")\n",
    "\n",
    "parser = nltk.ChartParser(grammar,trace=0)\n",
    "\n",
    "sent = 'der Hund jagt den langsamen schreienden Briefträger'.split()\n",
    "for tree in parser.parse(sent):\n",
    "    tree.pretty_print(unicodelines=True)    "
   ]
  },
  {
   "cell_type": "code",
   "execution_count": 22,
   "metadata": {},
   "outputs": [],
   "source": [
    "#Negativ-Beispiel mit wiederholtem Determinierer (wird nicht erkannt):\n",
    "sent = 'der Hund jagt den langsamen schreienden den Briefträger'.split()\n",
    "for tree in parser.parse(sent):\n",
    "    tree.pretty_print(unicodelines=True)   \n",
    "    #kein Parse"
   ]
  },
  {
   "cell_type": "markdown",
   "metadata": {},
   "source": [
    "---\n",
    "### 2.2 NP-Komplement (Genitiv-NP) und VP-Komplement (Objekt-NP)"
   ]
  },
  {
   "cell_type": "code",
   "execution_count": 23,
   "metadata": {},
   "outputs": [
    {
     "name": "stdout",
     "output_type": "stream",
     "text": [
      "                   S                               \n",
      "     ┌─────────────┴───────┐                        \n",
      "     │                     VP                      \n",
      "     │                     │                        \n",
      "     │                   VERBAL                    \n",
      "     │        ┌────────────┴───────┐                \n",
      "     │        │                    NP              \n",
      "     │        │    ┌───────────────┴───┐            \n",
      "     │        │    │                  NOM          \n",
      "     │        │    │       ┌───────────┴───┐        \n",
      "     NP       │    │       │               NP      \n",
      " ┌───┴───┐    │    │       │           ┌───┴────┐   \n",
      " │      NOM   │    │       │           │       NOM \n",
      " │       │    │    │       │           │        │   \n",
      "DET      N    V   DET      N          DET       N  \n",
      " │       │    │    │       │           │        │   \n",
      "der     Hund jagt den Briefträger     der     Stadt\n",
      "\n"
     ]
    }
   ],
   "source": [
    "#X-Bar mit NP-Komplement (Genititv-NP):\n",
    "grammar = nltk.CFG.fromstring(\"\"\"\n",
    "    S   -> NP VP\n",
    "    \n",
    "#VP-SPEZIFIZIERER (ohne):   \n",
    "    VP  -> VERBAL \n",
    "#VP-KOMPLEMENT (transitives Verb):    \n",
    "    VERBAL -> V NP\n",
    "        \n",
    "    NP  -> DET NOM\n",
    "    NOM -> ADJ NOM\n",
    "    NOM -> N\n",
    "#neue NP-KOMPLEMENT-Regel (Genititv-NP):    \n",
    "    NOM -> N NP\n",
    " \n",
    "    DET -> \"der\" | \"den\"\n",
    "    N   -> \"Hund\" | \"Briefträger\" | \"Stadt\"\n",
    "    ADJ -> \"langsamen\" | \"schreienden\"\n",
    "    V   -> \"jagt\"\n",
    "\"\"\")\n",
    "\n",
    "parser = nltk.ChartParser(grammar,trace=0)\n",
    "\n",
    "sent = 'der Hund jagt den Briefträger der Stadt'.split()\n",
    "for tree in parser.parse(sent):\n",
    "    tree.pretty_print(unicodelines=True)    "
   ]
  },
  {
   "cell_type": "code",
   "execution_count": 24,
   "metadata": {},
   "outputs": [
    {
     "name": "stdout",
     "output_type": "stream",
     "text": [
      "         S                                                            \n",
      "     ┌───┴──────────┐                                                  \n",
      "     │              VP                                                \n",
      "     │              │                                                  \n",
      "     │            VERBAL                                              \n",
      "     │        ┌─────┴─────────────────┐                                \n",
      "     │        │                       NP                              \n",
      "     │        │     ┌─────────────────┴────┐                           \n",
      "     │        │     │                     NOM                         \n",
      "     │        │     │         ┌────────────┴────┐                      \n",
      "     │        │     │         │                 NP                    \n",
      "     │        │     │         │       ┌─────────┴───┐                  \n",
      "     │        │     │         │       │            NOM                \n",
      "     │        │     │         │       │    ┌────────┴───┐              \n",
      "     NP       │     │         │       │    │            NP            \n",
      " ┌───┴───┐    │     │         │       │    │        ┌───┴───────┐      \n",
      " │      NOM   │     │         │       │    │        │          NOM    \n",
      " │       │    │     │         │       │    │        │           │      \n",
      "DET      N    V    DET        N      DET   N       DET          N     \n",
      " │       │    │     │         │       │    │        │           │      \n",
      "der     Hund jagt  den   Briefträger der Stadt     der     Briefträger\n",
      "\n"
     ]
    }
   ],
   "source": [
    "#Beispiel mit verschachtelten Genitiv-NPs:\n",
    "sent = 'der Hund jagt den Briefträger der Stadt der Briefträger'.split()\n",
    "\n",
    "for tree in parser.parse(sent):\n",
    "    tree.pretty_print(unicodelines=True)    "
   ]
  },
  {
   "cell_type": "markdown",
   "metadata": {},
   "source": [
    "---\n",
    "### 2.3 mehr VP-Komplemente (Objekt und indirektes Objekt)\n",
    "\n",
    "- 2 Analysen (Ambiguität):\n",
    "   - *der*: Genitiv (NP-Komplement) oder Dativ (VP-Komplement)!\n",
    "   - beide Analysen linguistisch möglich (*übergeben* kann sowohl ditransitiv als auch transitiv verwendet werden)"
   ]
  },
  {
   "cell_type": "code",
   "execution_count": 25,
   "metadata": {},
   "outputs": [
    {
     "name": "stdout",
     "output_type": "stream",
     "text": [
      "2\n",
      "                              S                          \n",
      "     ┌────────────────────────┴────────┐                  \n",
      "     │                                 VP                \n",
      "     │                                 │                  \n",
      "     │                               VERBAL              \n",
      "     │                 ┌──────────┬────┴─────────┐        \n",
      "     NP                │          NP             NP      \n",
      " ┌───┴───────┐         │      ┌───┴────┐     ┌───┴────┐   \n",
      " │          NOM        │      │       NOM    │       NOM \n",
      " │           │         │      │        │     │        │   \n",
      "DET          N         V     DET       N    DET       N  \n",
      " │           │         │      │        │     │        │   \n",
      "der     Briefträger übergibt den      Hund  der     Stadt\n",
      "\n",
      "                              S                          \n",
      "     ┌────────────────────────┴────┐                      \n",
      "     │                             VP                    \n",
      "     │                             │                      \n",
      "     │                           VERBAL                  \n",
      "     │                 ┌───────────┴─────┐                \n",
      "     │                 │                 NP              \n",
      "     │                 │      ┌──────────┴───┐            \n",
      "     │                 │      │             NOM          \n",
      "     │                 │      │    ┌─────────┴───┐        \n",
      "     NP                │      │    │             NP      \n",
      " ┌───┴───────┐         │      │    │         ┌───┴────┐   \n",
      " │          NOM        │      │    │         │       NOM \n",
      " │           │         │      │    │         │        │   \n",
      "DET          N         V     DET   N        DET       N  \n",
      " │           │         │      │    │         │        │   \n",
      "der     Briefträger übergibt den  Hund      der     Stadt\n",
      "\n"
     ]
    }
   ],
   "source": [
    "#X-Bar:\n",
    "grammar = nltk.CFG.fromstring(\"\"\"\n",
    "    S   -> NP VP\n",
    "    \n",
    "    VP  -> VERBAL \n",
    "    VERBAL -> V NP\n",
    "#neue VP-KOMPLEMENT-Regel (ditransitives Verb: 2 Komplemente):        \n",
    "    VERBAL -> V NP NP\n",
    "\n",
    "\n",
    "    NP  -> DET NOM\n",
    "    NOM -> ADJ NOM\n",
    "    NOM -> N\n",
    "    NOM -> N NP\n",
    " \n",
    "    DET -> \"der\" | \"den\"\n",
    "    N   -> \"Hund\" | \"Briefträger\" | \"Stadt\"\n",
    "    ADJ -> \"langsamen\" | \"schreienden\"\n",
    "    V   -> \"jagt\" | \"übergibt\"\n",
    "\"\"\")\n",
    "\n",
    "parser = nltk.ChartParser(grammar,trace=0)\n",
    "\n",
    "sent = 'der Briefträger übergibt den Hund der Stadt'.split()\n",
    "\n",
    "print(len(list(parser.parse(sent))))\n",
    "\n",
    "for tree in parser.parse(sent):\n",
    "    tree.pretty_print(unicodelines=True)    "
   ]
  },
  {
   "cell_type": "markdown",
   "metadata": {},
   "source": [
    "---\n",
    "### 2.4 VP-Spezifizierer (AUX) mit Zusatzregel für invertiertes Komplement:\n"
   ]
  },
  {
   "cell_type": "code",
   "execution_count": 26,
   "metadata": {},
   "outputs": [
    {
     "name": "stdout",
     "output_type": "stream",
     "text": [
      "1\n",
      "                     S                          \n",
      "     ┌───────────────┴───────┐                   \n",
      "     │                       VP                 \n",
      "     │               ┌───────┴────┐              \n",
      "     │               │          VERBAL          \n",
      "     │               │       ┌────┴────────┐     \n",
      "     NP              │       NP            │    \n",
      " ┌───┴───────┐       │   ┌───┴────┐        │     \n",
      " │          NOM      │   │       NOM       │    \n",
      " │           │       │   │        │        │     \n",
      "DET          N      AUX DET       N        V    \n",
      " │           │       │   │        │        │     \n",
      "der     Briefträger hat den      Hund  übergeben\n",
      "\n"
     ]
    }
   ],
   "source": [
    "#X-Bar (ausgehend von Grammatik ohne IV/TV/DTV-Differenzierung):\n",
    "grammar = nltk.CFG.fromstring(\"\"\"\n",
    "    S   -> NP VP\n",
    "    \n",
    "    VP  -> VERBAL \n",
    "    VERBAL -> V NP\n",
    "    VERBAL -> V NP NP\n",
    "#neuer VP-SPEZIFIZIERER (Auxiliar):        \n",
    "    VP -> AUX VERBAL\n",
    "#neue VP-KOMPLEMENT-REGEL mit invertierter Wortstellung: \n",
    "    VERBAL -> NP V\n",
    "\n",
    "    NP  -> DET NOM\n",
    "    NOM -> ADJ NOM\n",
    "    NOM -> N\n",
    "    NOM -> N NP\n",
    " \n",
    "    DET -> \"der\" | \"den\"\n",
    "    N   -> \"Hund\" | \"Briefträger\" | \"Stadt\"\n",
    "    ADJ -> \"langsamen\" | \"schreienden\" | \"ganzen\"\n",
    "    V   -> \"jagt\" | \"übergibt\"\n",
    "#neue lexikalische Regeln für AUX:\n",
    "    AUX -> \"hat\"\n",
    "    V -> \"übergeben\"\n",
    "\"\"\")\n",
    "\n",
    "parser = nltk.ChartParser(grammar,trace=0)\n",
    "\n",
    "sent = 'der Briefträger hat den Hund übergeben'.split()\n",
    "\n",
    "print(len(list(parser.parse(sent))))\n",
    "\n",
    "for tree in parser.parse(sent):\n",
    "    tree.pretty_print(unicodelines=True)    "
   ]
  }
 ],
 "metadata": {
  "kernelspec": {
   "display_name": "Python 3 (ipykernel)",
   "language": "python",
   "name": "python3"
  },
  "language_info": {
   "codemirror_mode": {
    "name": "ipython",
    "version": 3
   },
   "file_extension": ".py",
   "mimetype": "text/x-python",
   "name": "python",
   "nbconvert_exporter": "python",
   "pygments_lexer": "ipython3",
   "version": "3.9.12"
  },
  "widgets": {
   "application/vnd.jupyter.widget-state+json": {
    "state": {
     "098dd75f65594c0f992ddeffeb8523e3": {
      "model_module": "@jupyter-widgets/controls",
      "model_module_version": "1.2.0",
      "model_name": "SliderStyleModel",
      "state": {
       "description_width": ""
      }
     },
     "0ccfa5129ab64950adda077f6ac8f44a": {
      "model_module": "@jupyter-widgets/controls",
      "model_module_version": "1.2.0",
      "model_name": "IntSliderModel",
      "state": {
       "layout": "IPY_MODEL_641f3cf31a334ee6810a9a92f93e89a7",
       "style": "IPY_MODEL_63aadafcc3504a3b8b15fdea9d4ec244",
       "value": 50
      }
     },
     "1b37a149a74c40c68d34c61b481048f8": {
      "model_module": "@jupyter-widgets/base",
      "model_module_version": "1.0.0",
      "model_name": "LayoutModel",
      "state": {}
     },
     "367694b2ecc94715a20952236f9ced88": {
      "model_module": "@jupyter-widgets/base",
      "model_module_version": "1.0.0",
      "model_name": "LayoutModel",
      "state": {}
     },
     "3d6ebd239fc84a8e95b3007988e38134": {
      "model_module": "@jupyter-widgets/controls",
      "model_module_version": "1.2.0",
      "model_name": "SliderStyleModel",
      "state": {
       "description_width": ""
      }
     },
     "63aadafcc3504a3b8b15fdea9d4ec244": {
      "model_module": "@jupyter-widgets/controls",
      "model_module_version": "1.2.0",
      "model_name": "SliderStyleModel",
      "state": {
       "description_width": ""
      }
     },
     "641f3cf31a334ee6810a9a92f93e89a7": {
      "model_module": "@jupyter-widgets/base",
      "model_module_version": "1.0.0",
      "model_name": "LayoutModel",
      "state": {}
     },
     "993ec756027845c19085347ca5f9f6ce": {
      "model_module": "@jupyter-widgets/controls",
      "model_module_version": "1.2.0",
      "model_name": "SliderStyleModel",
      "state": {
       "description_width": ""
      }
     },
     "bb743dc2dd2d4bb08dd2c5255e1d87c6": {
      "model_module": "@jupyter-widgets/controls",
      "model_module_version": "1.2.0",
      "model_name": "SliderStyleModel",
      "state": {
       "description_width": ""
      }
     },
     "cb4a4abdac584f78ac3b37579ac33b10": {
      "model_module": "@jupyter-widgets/controls",
      "model_module_version": "1.2.0",
      "model_name": "IntSliderModel",
      "state": {
       "layout": "IPY_MODEL_f25c2eb22704411b9981f8047a2c0182",
       "style": "IPY_MODEL_993ec756027845c19085347ca5f9f6ce",
       "value": 50
      }
     },
     "cfbb8ba5969a49e18a1733c50e6b73e4": {
      "model_module": "@jupyter-widgets/controls",
      "model_module_version": "1.2.0",
      "model_name": "IntSliderModel",
      "state": {
       "layout": "IPY_MODEL_1b37a149a74c40c68d34c61b481048f8",
       "style": "IPY_MODEL_3d6ebd239fc84a8e95b3007988e38134",
       "value": 50
      }
     },
     "da2e37629b7141b8a194c275f89ccef5": {
      "model_module": "@jupyter-widgets/base",
      "model_module_version": "1.0.0",
      "model_name": "LayoutModel",
      "state": {}
     },
     "eafa48b852af4f40b414b8d4f0b90c7a": {
      "model_module": "@jupyter-widgets/controls",
      "model_module_version": "1.2.0",
      "model_name": "IntSliderModel",
      "state": {
       "layout": "IPY_MODEL_da2e37629b7141b8a194c275f89ccef5",
       "style": "IPY_MODEL_bb743dc2dd2d4bb08dd2c5255e1d87c6"
      }
     },
     "f196171317cf493fabedf854f59c1d44": {
      "model_module": "@jupyter-widgets/controls",
      "model_module_version": "1.2.0",
      "model_name": "IntSliderModel",
      "state": {
       "layout": "IPY_MODEL_367694b2ecc94715a20952236f9ced88",
       "style": "IPY_MODEL_098dd75f65594c0f992ddeffeb8523e3"
      }
     },
     "f25c2eb22704411b9981f8047a2c0182": {
      "model_module": "@jupyter-widgets/base",
      "model_module_version": "1.0.0",
      "model_name": "LayoutModel",
      "state": {}
     }
    },
    "version_major": 2,
    "version_minor": 0
   }
  }
 },
 "nbformat": 4,
 "nbformat_minor": 2
}
