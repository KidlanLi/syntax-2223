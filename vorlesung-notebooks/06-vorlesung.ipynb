{
 "cells": [
  {
   "cell_type": "markdown",
   "metadata": {},
   "source": [
    "***Vorlesung 'Syntax natürlicher Sprachen'***\n",
    "\n",
    "--- \n",
    "# Vorlesung 6: Intro Feature-Based Grammars\n"
   ]
  },
  {
   "cell_type": "code",
   "execution_count": 1,
   "metadata": {},
   "outputs": [],
   "source": [
    "import nltk\n",
    "from nltk import Tree\n",
    "from nltk import FeatStruct\n",
    "from nltk.sem.logic import Variable, VariableExpression, Expression"
   ]
  },
  {
   "cell_type": "code",
   "execution_count": 2,
   "metadata": {},
   "outputs": [],
   "source": [
    "def test_fcfg_grammar(gramstring, sent, draw=0, tracing=0):\n",
    "    grammar = nltk.grammar.FeatureGrammar.fromstring(gramstring)\n",
    "    parser = nltk.parse.FeatureChartParser(grammar,trace=tracing)\n",
    "    analyzed = False\n",
    "    for tree in parser.parse(sent):\n",
    "        if not draw: print(tree)\n",
    "        if draw: \n",
    "            tree = Tree.fromstring(str(tree).replace(\", \",\",\"))\n",
    "            tree.pretty_print(unicodelines=True)\n",
    "            #display(tree)\n",
    "        analyzed = True\n",
    "    if not analyzed:\n",
    "        print(\"Keine Analyse möglich\")    "
   ]
  },
  {
   "cell_type": "markdown",
   "metadata": {},
   "source": [
    "## NLTK: Featstruct und Unifikation"
   ]
  },
  {
   "cell_type": "code",
   "execution_count": 3,
   "metadata": {},
   "outputs": [
    {
     "name": "stdout",
     "output_type": "stream",
     "text": [
      "[ number = 'singular' ]\n",
      "[ person = 3          ]\n"
     ]
    }
   ],
   "source": [
    "#http://www.nltk.org/howto/featstruct.html\n",
    "fs1 = FeatStruct(number='singular', person=3)\n",
    "print(fs1)"
   ]
  },
  {
   "cell_type": "code",
   "execution_count": 4,
   "metadata": {},
   "outputs": [
    {
     "name": "stdout",
     "output_type": "stream",
     "text": [
      "[ agr  = [ number = 'singular' ] ]\n",
      "[        [ person = 3          ] ]\n",
      "[                                ]\n",
      "[ type = 'NP'                    ]\n"
     ]
    }
   ],
   "source": [
    "#nested feature structure:\n",
    "fs2 = FeatStruct(type='NP', agr=fs1)\n",
    "print(fs2)"
   ]
  },
  {
   "cell_type": "code",
   "execution_count": 5,
   "metadata": {},
   "outputs": [
    {
     "name": "stdout",
     "output_type": "stream",
     "text": [
      "[ agr  = [ number = ?n ] ]\n",
      "[                        ]\n",
      "[ subj = [ number = ?n ] ]\n"
     ]
    }
   ],
   "source": [
    "#Variables are used to indicate that two features should be assigned the same value. \n",
    "#For example, the following feature structure requires \n",
    "#that the feature fs3['agr']['number'] be bound to the same value \n",
    "#as the feature fs3['subj']['number'].\n",
    "fs3 = FeatStruct(agr=FeatStruct(number=Variable('?n')), subj=FeatStruct(number=Variable('?n')))\n",
    "print(fs3)"
   ]
  },
  {
   "cell_type": "code",
   "execution_count": 6,
   "metadata": {},
   "outputs": [
    {
     "name": "stdout",
     "output_type": "stream",
     "text": [
      "[ agr  = [ number = 'singular' ] ]\n",
      "[        [ person = 3          ] ]\n",
      "[                                ]\n",
      "[ subj = [ number = 'singular' ] ]\n",
      "[                                ]\n",
      "[ type = 'NP'                    ]\n"
     ]
    }
   ],
   "source": [
    "#unification:\n",
    "print(fs2.unify(fs3))"
   ]
  },
  {
   "cell_type": "code",
   "execution_count": 7,
   "metadata": {},
   "outputs": [
    {
     "name": "stdout",
     "output_type": "stream",
     "text": [
      "[ agr = [ person = 1 ] ]\n"
     ]
    }
   ],
   "source": [
    "#additional feat-structure:\n",
    "fs4 = FeatStruct(agr=FeatStruct(person=1))\n",
    "print(fs4)"
   ]
  },
  {
   "cell_type": "code",
   "execution_count": 8,
   "metadata": {},
   "outputs": [
    {
     "name": "stdout",
     "output_type": "stream",
     "text": [
      "None\n"
     ]
    }
   ],
   "source": [
    "#failed unification (inconsistent feature structures):\n",
    "print(fs4.unify(fs2))"
   ]
  },
  {
   "cell_type": "code",
   "execution_count": 9,
   "metadata": {},
   "outputs": [
    {
     "name": "stdout",
     "output_type": "stream",
     "text": [
      "None\n"
     ]
    }
   ],
   "source": [
    "print(fs2.unify(fs4))"
   ]
  },
  {
   "cell_type": "markdown",
   "metadata": {},
   "source": [
    "---\n",
    "## 1. Feature-Grammar NP-Agreement"
   ]
  },
  {
   "cell_type": "code",
   "execution_count": 10,
   "metadata": {},
   "outputs": [],
   "source": [
    "#Feature-Grammar NP-Agreement:\n",
    "gramstring = r\"\"\"\n",
    "% start NP\n",
    "\n",
    "    NP[AGR=?x]  -> DET[AGR=?x] N[AGR=?x]\n",
    "\n",
    "    N[AGR=[NUM=sg, GEN=mask]]   -> \"Hund\"\n",
    "    N[AGR=[NUM=sg, GEN=fem]]   -> \"Katze\"\n",
    "    \n",
    "    DET[AGR=[NUM=sg, GEN=mask, CASE=nom]] -> \"der\"\n",
    "    DET[AGR=[NUM=sg, GEN=mask, CASE=akk]] -> \"den\"\n",
    "    DET[AGR=[NUM=sg, GEN=fem]] -> \"die\"     \n",
    "\"\"\""
   ]
  },
  {
   "cell_type": "code",
   "execution_count": 11,
   "metadata": {},
   "outputs": [
    {
     "name": "stdout",
     "output_type": "stream",
     "text": [
      "                  NP[AGR=[CASE='                    \n",
      "                 nom',GEN='mask',                   \n",
      "                    NUM='sg']]                      \n",
      "       ┌────────────────┴─────────────────┐          \n",
      "DET[AGR=[CASE='                   N[AGR=[GEN='mask',\n",
      "nom',GEN='mask',                      NUM='sg']]    \n",
      "   NUM='sg']]                             │         \n",
      "       │                                  │          \n",
      "      der                                Hund       \n",
      "\n"
     ]
    }
   ],
   "source": [
    "#mask: Nominativ\n",
    "sent = 'der Hund'.split()\n",
    "test_fcfg_grammar(gramstring, sent, draw=1)"
   ]
  },
  {
   "cell_type": "code",
   "execution_count": 12,
   "metadata": {},
   "outputs": [
    {
     "name": "stdout",
     "output_type": "stream",
     "text": [
      "                  NP[AGR=[CASE='                    \n",
      "                 akk',GEN='mask',                   \n",
      "                    NUM='sg']]                      \n",
      "       ┌────────────────┴─────────────────┐          \n",
      "DET[AGR=[CASE='                   N[AGR=[GEN='mask',\n",
      "akk',GEN='mask',                      NUM='sg']]    \n",
      "   NUM='sg']]                             │         \n",
      "       │                                  │          \n",
      "      den                                Hund       \n",
      "\n"
     ]
    }
   ],
   "source": [
    "#mask: Akkusativ\n",
    "sent = 'den Hund'.split()\n",
    "test_fcfg_grammar(gramstring, sent, draw=1)"
   ]
  },
  {
   "cell_type": "code",
   "execution_count": 13,
   "metadata": {},
   "outputs": [
    {
     "name": "stdout",
     "output_type": "stream",
     "text": [
      "                NP[AGR=[GEN='fem',                  \n",
      "                    NUM='sg']]                      \n",
      "       ┌────────────────┴──────────────────┐         \n",
      " DET[AGR=[GEN='                    N[AGR=[GEN='fem',\n",
      "fem',NUM='sg']]                        NUM='sg']]   \n",
      "       │                                   │         \n",
      "      die                                Katze      \n",
      "\n"
     ]
    }
   ],
   "source": [
    "#fem: Nominativ + Akkusativ (Kasus-unterspezifiziert)\n",
    "sent = 'die Katze'.split()\n",
    "test_fcfg_grammar(gramstring, sent, draw=1)"
   ]
  },
  {
   "cell_type": "code",
   "execution_count": 14,
   "metadata": {},
   "outputs": [
    {
     "name": "stdout",
     "output_type": "stream",
     "text": [
      "Keine Analyse möglich\n"
     ]
    }
   ],
   "source": [
    "#Negativbeispiel:\n",
    "sent = 'die Hund'.split()\n",
    "test_fcfg_grammar(gramstring, sent, draw=1)"
   ]
  },
  {
   "cell_type": "code",
   "execution_count": 15,
   "metadata": {},
   "outputs": [
    {
     "name": "stdout",
     "output_type": "stream",
     "text": [
      "Keine Analyse möglich\n"
     ]
    }
   ],
   "source": [
    "#Negativbeispiel:\n",
    "sent = 'der Katze'.split()\n",
    "test_fcfg_grammar(gramstring, sent, draw=1)"
   ]
  },
  {
   "cell_type": "code",
   "execution_count": 16,
   "metadata": {},
   "outputs": [
    {
     "name": "stdout",
     "output_type": "stream",
     "text": [
      "Keine Analyse möglich\n"
     ]
    }
   ],
   "source": [
    "#Negativbeispiel:\n",
    "sent = 'den Katze'.split()\n",
    "test_fcfg_grammar(gramstring, sent, draw=1)"
   ]
  },
  {
   "cell_type": "markdown",
   "metadata": {},
   "source": [
    "---\n",
    "## 2 a) Feature-Modellierung von Subjekt-Kasus"
   ]
  },
  {
   "cell_type": "markdown",
   "metadata": {},
   "source": [
    "#### Feature-Grammar ohne Constraints:\n",
    "\n",
    "##### nur mit Variablen zum Hochreichen der Kasus-Information in der NP-Regel"
   ]
  },
  {
   "cell_type": "code",
   "execution_count": 17,
   "metadata": {
    "scrolled": false
   },
   "outputs": [],
   "source": [
    "#Feature-Grammar ohne Constraints:\n",
    "gramstring = r\"\"\"\n",
    "% start S\n",
    "    S   -> NP VP\n",
    "    \n",
    "    VP  -> V NP\n",
    "    VP -> V\n",
    "\n",
    "    NP[CASE=?x]  -> DET[CASE=?x] N\n",
    " \n",
    "    DET[CASE=nom] -> \"der\"\n",
    "    DET[CASE=akk] -> \"den\"\n",
    "    DET[CASE=dat] -> \"dem\"    \n",
    "    N   -> \"Hund\" | \"Briefträger\"\n",
    "    V   -> \"schläft\" | \"jagt\" | \"gehört\"\n",
    "\"\"\""
   ]
  },
  {
   "cell_type": "code",
   "execution_count": 18,
   "metadata": {},
   "outputs": [
    {
     "name": "stdout",
     "output_type": "stream",
     "text": [
      "                               S[]         \n",
      "                      ┌─────────┴──────┐    \n",
      "                NP[CASE='akk']        VP[] \n",
      "       ┌──────────────┴─────────┐      │    \n",
      "DET[CASE='akk']                N[]    V[]  \n",
      "       │                        │      │    \n",
      "      den                      Hund schläft\n",
      "\n"
     ]
    }
   ],
   "source": [
    "#Negativbeispiel Subjektkasus:\n",
    "sent = 'den Hund schläft'.split()\n",
    "test_fcfg_grammar(gramstring, sent, draw=1)\n",
    "    #Übergenerierung!"
   ]
  },
  {
   "cell_type": "markdown",
   "metadata": {},
   "source": [
    "---\n",
    "### Lösung Übergenerierung durch Subjekt-Kasus-Constraint:"
   ]
  },
  {
   "cell_type": "code",
   "execution_count": 19,
   "metadata": {},
   "outputs": [],
   "source": [
    "gramstring = r\"\"\"\n",
    "% start S\n",
    "\n",
    "#Subjekt-Kasus-Constraint:\n",
    "    S   -> NP[CASE=nom] VP\n",
    "    \n",
    "    VP  -> V NP\n",
    "    VP -> V\n",
    "\n",
    "    NP[CASE=?x]  -> DET[CASE=?x] N\n",
    " \n",
    "    DET[CASE=nom] -> \"der\"\n",
    "    DET[CASE=akk] -> \"den\"\n",
    "    DET[CASE=dat] -> \"dem\"    \n",
    "    N   -> \"Hund\" | \"Briefträger\"\n",
    "    V   -> \"schläft\" | \"jagt\" | \"gehört\"\n",
    "\"\"\""
   ]
  },
  {
   "cell_type": "code",
   "execution_count": 20,
   "metadata": {},
   "outputs": [
    {
     "name": "stdout",
     "output_type": "stream",
     "text": [
      "Keine Analyse möglich\n"
     ]
    }
   ],
   "source": [
    "#Negativbeispiel Subjektkasus:\n",
    "sent = 'den Hund schläft'.split()\n",
    "test_fcfg_grammar(gramstring, sent, draw=1)\n",
    "#kein Parse"
   ]
  },
  {
   "cell_type": "code",
   "execution_count": 21,
   "metadata": {
    "scrolled": true
   },
   "outputs": [
    {
     "name": "stdout",
     "output_type": "stream",
     "text": [
      "                               S[]         \n",
      "                      ┌─────────┴──────┐    \n",
      "                NP[CASE='nom']        VP[] \n",
      "       ┌──────────────┴─────────┐      │    \n",
      "DET[CASE='nom']                N[]    V[]  \n",
      "       │                        │      │    \n",
      "      der                      Hund schläft\n",
      "\n"
     ]
    }
   ],
   "source": [
    "sent = 'der Hund schläft'.split()\n",
    "test_fcfg_grammar(gramstring, sent, draw=1)"
   ]
  },
  {
   "cell_type": "markdown",
   "metadata": {},
   "source": [
    "---\n",
    "#### Ergänzung um Kasus-unterspezifizierte Regeln für Femininum:\n",
    "\n",
    "##### `[CASE=NOM]`-Subjekt-Kasus-Constraint erfüllt, da kein Widerspruch (unifizierbar)"
   ]
  },
  {
   "cell_type": "code",
   "execution_count": 22,
   "metadata": {},
   "outputs": [],
   "source": [
    "gramstring = \"\".join((gramstring,\"DET -> 'die'  \\n\"))\n",
    "gramstring = \"\".join((gramstring,\"N -> 'Katze'  \\n\"))"
   ]
  },
  {
   "cell_type": "code",
   "execution_count": 23,
   "metadata": {},
   "outputs": [
    {
     "name": "stdout",
     "output_type": "stream",
     "text": [
      "                   S[]         \n",
      "           ┌────────┴──────┐    \n",
      "      NP[CASE=?x]         VP[] \n",
      "  ┌────────┴────────┐      │    \n",
      "DET[]              N[]    V[]  \n",
      "  │                 │      │    \n",
      " die              Katze schläft\n",
      "\n"
     ]
    }
   ],
   "source": [
    "sent = 'die Katze schläft'.split()\n",
    "test_fcfg_grammar(gramstring, sent, draw=1)"
   ]
  },
  {
   "cell_type": "markdown",
   "metadata": {},
   "source": [
    "---\n",
    "## 2 b) Feature-Modellierung von Objekt-Kasus"
   ]
  },
  {
   "cell_type": "markdown",
   "metadata": {},
   "source": [
    "#### Feature-Grammar ohne Constraints:\n",
    "\n",
    "##### nur mit Variablen zum Hochreichen der Kasus-Information in der NP-Regel"
   ]
  },
  {
   "cell_type": "code",
   "execution_count": 24,
   "metadata": {
    "scrolled": false
   },
   "outputs": [],
   "source": [
    "#Feature-Grammar ohne Constraints:\n",
    "gramstring = r\"\"\"\n",
    "% start S\n",
    "    S   -> NP VP\n",
    "    \n",
    "    VP  -> V NP\n",
    "    VP -> V\n",
    "\n",
    "    NP[CASE=?x]  -> DET[CASE=?x] N\n",
    " \n",
    "    DET[CASE=nom] -> \"der\"\n",
    "    DET[CASE=akk] -> \"den\"\n",
    "    DET[CASE=dat] -> \"dem\"    \n",
    "    N   -> \"Hund\" | \"Briefträger\"\n",
    "    V   -> \"schläft\" | \"jagt\" | \"gehört\"\n",
    "\"\"\""
   ]
  },
  {
   "cell_type": "code",
   "execution_count": 25,
   "metadata": {},
   "outputs": [
    {
     "name": "stdout",
     "output_type": "stream",
     "text": [
      "                                    S[]                                            \n",
      "                      ┌──────────────┴──────────┐                                   \n",
      "                      │                        VP[]                                \n",
      "                      │              ┌──────────┴──────────────┐                    \n",
      "                NP[CASE='nom']       │                   NP[CASE='dat']            \n",
      "       ┌──────────────┴─────────┐    │          ┌──────────────┴─────────────┐      \n",
      "DET[CASE='nom']                N[]  V[]  DET[CASE='dat']                    N[]    \n",
      "       │                        │    │          │                            │      \n",
      "      der                      Hund jagt       dem                      Briefträger\n",
      "\n"
     ]
    }
   ],
   "source": [
    "#Negativbeispiel Objektkasus:\n",
    "sent = 'der Hund jagt dem Briefträger'.split()\n",
    "test_fcfg_grammar(gramstring, sent, draw=1)\n",
    "    #Übergenerierung!"
   ]
  },
  {
   "cell_type": "markdown",
   "metadata": {},
   "source": [
    "---\n",
    "### Lösung Übergenerierung durch Objekt-Kasus-Constraint:"
   ]
  },
  {
   "cell_type": "code",
   "execution_count": 26,
   "metadata": {},
   "outputs": [],
   "source": [
    "gramstring = r\"\"\"\n",
    "% start S\n",
    "    S   -> NP VP\n",
    "    \n",
    "    VP  -> V[OBJCASE=?y] NP[CASE=?y]\n",
    "    VP -> V\n",
    "\n",
    "    NP[CASE=?x]  -> DET[CASE=?x] N\n",
    " \n",
    "    DET[CASE=nom] -> \"der\"\n",
    "    DET[CASE=akk] -> \"den\"\n",
    "    DET[CASE=dat] -> \"dem\"\n",
    "    N   -> \"Hund\" | \"Briefträger\"\n",
    "    V   -> \"schläft\"\n",
    "    V[OBJCASE=akk]   -> \"jagt\"\n",
    "    V[OBJCASE=dat]   -> \"gehört\"\n",
    "\"\"\""
   ]
  },
  {
   "cell_type": "code",
   "execution_count": 27,
   "metadata": {},
   "outputs": [
    {
     "name": "stdout",
     "output_type": "stream",
     "text": [
      "Keine Analyse möglich\n"
     ]
    }
   ],
   "source": [
    "#Negativbeispiel Objektkasus:\n",
    "sent = 'der Hund jagt der Briefträger'.split()\n",
    "test_fcfg_grammar(gramstring, sent, draw=1)\n",
    "    #kein Parse"
   ]
  },
  {
   "cell_type": "code",
   "execution_count": 28,
   "metadata": {},
   "outputs": [
    {
     "name": "stdout",
     "output_type": "stream",
     "text": [
      "                                          S[]                                                  \n",
      "                      ┌────────────────────┴────────────────┐                                   \n",
      "                      │                                    VP[]                                \n",
      "                      │                    ┌────────────────┴──────────────┐                    \n",
      "                NP[CASE='nom']             │                         NP[CASE='akk']            \n",
      "       ┌──────────────┴─────────┐          │                ┌──────────────┴─────────────┐      \n",
      "DET[CASE='nom']                N[]  V[OBJCASE='akk'] DET[CASE='akk']                    N[]    \n",
      "       │                        │          │                │                            │      \n",
      "      der                      Hund       jagt             den                      Briefträger\n",
      "\n"
     ]
    }
   ],
   "source": [
    "sent = 'der Hund jagt den Briefträger'.split()\n",
    "test_fcfg_grammar(gramstring, sent, draw=1)"
   ]
  },
  {
   "cell_type": "code",
   "execution_count": 29,
   "metadata": {},
   "outputs": [
    {
     "name": "stdout",
     "output_type": "stream",
     "text": [
      "                                          S[]                                                  \n",
      "                      ┌────────────────────┴────────────────┐                                   \n",
      "                      │                                    VP[]                                \n",
      "                      │                    ┌────────────────┴──────────────┐                    \n",
      "                NP[CASE='nom']             │                         NP[CASE='dat']            \n",
      "       ┌──────────────┴─────────┐          │                ┌──────────────┴─────────────┐      \n",
      "DET[CASE='nom']                N[]  V[OBJCASE='dat'] DET[CASE='dat']                    N[]    \n",
      "       │                        │          │                │                            │      \n",
      "      der                      Hund      gehört            dem                      Briefträger\n",
      "\n"
     ]
    }
   ],
   "source": [
    "sent = 'der Hund gehört dem Briefträger'.split()\n",
    "test_fcfg_grammar(gramstring, sent, draw=1)"
   ]
  }
 ],
 "metadata": {
  "kernelspec": {
   "display_name": "Python 3 (ipykernel)",
   "language": "python",
   "name": "python3"
  },
  "language_info": {
   "codemirror_mode": {
    "name": "ipython",
    "version": 3
   },
   "file_extension": ".py",
   "mimetype": "text/x-python",
   "name": "python",
   "nbconvert_exporter": "python",
   "pygments_lexer": "ipython3",
   "version": "3.9.12"
  },
  "widgets": {
   "application/vnd.jupyter.widget-state+json": {
    "state": {
     "098dd75f65594c0f992ddeffeb8523e3": {
      "model_module": "@jupyter-widgets/controls",
      "model_module_version": "1.2.0",
      "model_name": "SliderStyleModel",
      "state": {
       "description_width": ""
      }
     },
     "0ccfa5129ab64950adda077f6ac8f44a": {
      "model_module": "@jupyter-widgets/controls",
      "model_module_version": "1.2.0",
      "model_name": "IntSliderModel",
      "state": {
       "layout": "IPY_MODEL_641f3cf31a334ee6810a9a92f93e89a7",
       "style": "IPY_MODEL_63aadafcc3504a3b8b15fdea9d4ec244",
       "value": 50
      }
     },
     "1b37a149a74c40c68d34c61b481048f8": {
      "model_module": "@jupyter-widgets/base",
      "model_module_version": "1.0.0",
      "model_name": "LayoutModel",
      "state": {}
     },
     "367694b2ecc94715a20952236f9ced88": {
      "model_module": "@jupyter-widgets/base",
      "model_module_version": "1.0.0",
      "model_name": "LayoutModel",
      "state": {}
     },
     "3d6ebd239fc84a8e95b3007988e38134": {
      "model_module": "@jupyter-widgets/controls",
      "model_module_version": "1.2.0",
      "model_name": "SliderStyleModel",
      "state": {
       "description_width": ""
      }
     },
     "63aadafcc3504a3b8b15fdea9d4ec244": {
      "model_module": "@jupyter-widgets/controls",
      "model_module_version": "1.2.0",
      "model_name": "SliderStyleModel",
      "state": {
       "description_width": ""
      }
     },
     "641f3cf31a334ee6810a9a92f93e89a7": {
      "model_module": "@jupyter-widgets/base",
      "model_module_version": "1.0.0",
      "model_name": "LayoutModel",
      "state": {}
     },
     "993ec756027845c19085347ca5f9f6ce": {
      "model_module": "@jupyter-widgets/controls",
      "model_module_version": "1.2.0",
      "model_name": "SliderStyleModel",
      "state": {
       "description_width": ""
      }
     },
     "bb743dc2dd2d4bb08dd2c5255e1d87c6": {
      "model_module": "@jupyter-widgets/controls",
      "model_module_version": "1.2.0",
      "model_name": "SliderStyleModel",
      "state": {
       "description_width": ""
      }
     },
     "cb4a4abdac584f78ac3b37579ac33b10": {
      "model_module": "@jupyter-widgets/controls",
      "model_module_version": "1.2.0",
      "model_name": "IntSliderModel",
      "state": {
       "layout": "IPY_MODEL_f25c2eb22704411b9981f8047a2c0182",
       "style": "IPY_MODEL_993ec756027845c19085347ca5f9f6ce",
       "value": 50
      }
     },
     "cfbb8ba5969a49e18a1733c50e6b73e4": {
      "model_module": "@jupyter-widgets/controls",
      "model_module_version": "1.2.0",
      "model_name": "IntSliderModel",
      "state": {
       "layout": "IPY_MODEL_1b37a149a74c40c68d34c61b481048f8",
       "style": "IPY_MODEL_3d6ebd239fc84a8e95b3007988e38134",
       "value": 50
      }
     },
     "da2e37629b7141b8a194c275f89ccef5": {
      "model_module": "@jupyter-widgets/base",
      "model_module_version": "1.0.0",
      "model_name": "LayoutModel",
      "state": {}
     },
     "eafa48b852af4f40b414b8d4f0b90c7a": {
      "model_module": "@jupyter-widgets/controls",
      "model_module_version": "1.2.0",
      "model_name": "IntSliderModel",
      "state": {
       "layout": "IPY_MODEL_da2e37629b7141b8a194c275f89ccef5",
       "style": "IPY_MODEL_bb743dc2dd2d4bb08dd2c5255e1d87c6"
      }
     },
     "f196171317cf493fabedf854f59c1d44": {
      "model_module": "@jupyter-widgets/controls",
      "model_module_version": "1.2.0",
      "model_name": "IntSliderModel",
      "state": {
       "layout": "IPY_MODEL_367694b2ecc94715a20952236f9ced88",
       "style": "IPY_MODEL_098dd75f65594c0f992ddeffeb8523e3"
      }
     },
     "f25c2eb22704411b9981f8047a2c0182": {
      "model_module": "@jupyter-widgets/base",
      "model_module_version": "1.0.0",
      "model_name": "LayoutModel",
      "state": {}
     }
    },
    "version_major": 2,
    "version_minor": 0
   }
  }
 },
 "nbformat": 4,
 "nbformat_minor": 2
}
